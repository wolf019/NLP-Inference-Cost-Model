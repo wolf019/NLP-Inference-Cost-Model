{
 "cells": [
  {
   "cell_type": "markdown",
   "metadata": {},
   "source": [
    "## Reading output from Intel Power Gadget\n"
   ]
  },
  {
   "cell_type": "code",
   "execution_count": 1,
   "metadata": {},
   "outputs": [],
   "source": [
    "import gc\n",
    "import pandas as pd\n",
    "\n",
    "format = \"%H:%M:%S:%f\""
   ]
  },
  {
   "cell_type": "code",
   "execution_count": 2,
   "metadata": {},
   "outputs": [
    {
     "ename": "FileNotFoundError",
     "evalue": "[Errno 2] No such file or directory: '../data/PwrData_2022-3-30_17-39-1_DistillB_TokenFast.csv'",
     "output_type": "error",
     "traceback": [
      "\u001b[0;31m---------------------------------------------------------------------------\u001b[0m",
      "\u001b[0;31mFileNotFoundError\u001b[0m                         Traceback (most recent call last)",
      "\u001b[0;32m<ipython-input-2-e470baa3946a>\u001b[0m in \u001b[0;36m<module>\u001b[0;34m\u001b[0m\n\u001b[1;32m      1\u001b[0m \u001b[0;31m# Read data\u001b[0m\u001b[0;34m\u001b[0m\u001b[0;34m\u001b[0m\u001b[0;34m\u001b[0m\u001b[0m\n\u001b[1;32m      2\u001b[0m \u001b[0mformat\u001b[0m \u001b[0;34m=\u001b[0m \u001b[0;34m\"%H:%M:%S:%f\"\u001b[0m\u001b[0;34m\u001b[0m\u001b[0;34m\u001b[0m\u001b[0m\n\u001b[0;32m----> 3\u001b[0;31m \u001b[0mdata\u001b[0m \u001b[0;34m=\u001b[0m \u001b[0mpd\u001b[0m\u001b[0;34m.\u001b[0m\u001b[0mread_csv\u001b[0m\u001b[0;34m(\u001b[0m\u001b[0;34m'../data/PwrData_2022-3-30_17-39-1_DistillB_TokenFast.csv'\u001b[0m\u001b[0;34m)\u001b[0m\u001b[0;34m\u001b[0m\u001b[0;34m\u001b[0m\u001b[0m\n\u001b[0m\u001b[1;32m      4\u001b[0m \u001b[0mdata\u001b[0m\u001b[0;34m.\u001b[0m\u001b[0mhead\u001b[0m\u001b[0;34m(\u001b[0m\u001b[0;34m)\u001b[0m\u001b[0;34m\u001b[0m\u001b[0;34m\u001b[0m\u001b[0m\n",
      "\u001b[0;32m~/opt/anaconda3/lib/python3.8/site-packages/pandas/io/parsers.py\u001b[0m in \u001b[0;36mread_csv\u001b[0;34m(filepath_or_buffer, sep, delimiter, header, names, index_col, usecols, squeeze, prefix, mangle_dupe_cols, dtype, engine, converters, true_values, false_values, skipinitialspace, skiprows, skipfooter, nrows, na_values, keep_default_na, na_filter, verbose, skip_blank_lines, parse_dates, infer_datetime_format, keep_date_col, date_parser, dayfirst, cache_dates, iterator, chunksize, compression, thousands, decimal, lineterminator, quotechar, quoting, doublequote, escapechar, comment, encoding, dialect, error_bad_lines, warn_bad_lines, delim_whitespace, low_memory, memory_map, float_precision, storage_options)\u001b[0m\n\u001b[1;32m    608\u001b[0m     \u001b[0mkwds\u001b[0m\u001b[0;34m.\u001b[0m\u001b[0mupdate\u001b[0m\u001b[0;34m(\u001b[0m\u001b[0mkwds_defaults\u001b[0m\u001b[0;34m)\u001b[0m\u001b[0;34m\u001b[0m\u001b[0;34m\u001b[0m\u001b[0m\n\u001b[1;32m    609\u001b[0m \u001b[0;34m\u001b[0m\u001b[0m\n\u001b[0;32m--> 610\u001b[0;31m     \u001b[0;32mreturn\u001b[0m \u001b[0m_read\u001b[0m\u001b[0;34m(\u001b[0m\u001b[0mfilepath_or_buffer\u001b[0m\u001b[0;34m,\u001b[0m \u001b[0mkwds\u001b[0m\u001b[0;34m)\u001b[0m\u001b[0;34m\u001b[0m\u001b[0;34m\u001b[0m\u001b[0m\n\u001b[0m\u001b[1;32m    611\u001b[0m \u001b[0;34m\u001b[0m\u001b[0m\n\u001b[1;32m    612\u001b[0m \u001b[0;34m\u001b[0m\u001b[0m\n",
      "\u001b[0;32m~/opt/anaconda3/lib/python3.8/site-packages/pandas/io/parsers.py\u001b[0m in \u001b[0;36m_read\u001b[0;34m(filepath_or_buffer, kwds)\u001b[0m\n\u001b[1;32m    460\u001b[0m \u001b[0;34m\u001b[0m\u001b[0m\n\u001b[1;32m    461\u001b[0m     \u001b[0;31m# Create the parser.\u001b[0m\u001b[0;34m\u001b[0m\u001b[0;34m\u001b[0m\u001b[0;34m\u001b[0m\u001b[0m\n\u001b[0;32m--> 462\u001b[0;31m     \u001b[0mparser\u001b[0m \u001b[0;34m=\u001b[0m \u001b[0mTextFileReader\u001b[0m\u001b[0;34m(\u001b[0m\u001b[0mfilepath_or_buffer\u001b[0m\u001b[0;34m,\u001b[0m \u001b[0;34m**\u001b[0m\u001b[0mkwds\u001b[0m\u001b[0;34m)\u001b[0m\u001b[0;34m\u001b[0m\u001b[0;34m\u001b[0m\u001b[0m\n\u001b[0m\u001b[1;32m    463\u001b[0m \u001b[0;34m\u001b[0m\u001b[0m\n\u001b[1;32m    464\u001b[0m     \u001b[0;32mif\u001b[0m \u001b[0mchunksize\u001b[0m \u001b[0;32mor\u001b[0m \u001b[0miterator\u001b[0m\u001b[0;34m:\u001b[0m\u001b[0;34m\u001b[0m\u001b[0;34m\u001b[0m\u001b[0m\n",
      "\u001b[0;32m~/opt/anaconda3/lib/python3.8/site-packages/pandas/io/parsers.py\u001b[0m in \u001b[0;36m__init__\u001b[0;34m(self, f, engine, **kwds)\u001b[0m\n\u001b[1;32m    817\u001b[0m             \u001b[0mself\u001b[0m\u001b[0;34m.\u001b[0m\u001b[0moptions\u001b[0m\u001b[0;34m[\u001b[0m\u001b[0;34m\"has_index_names\"\u001b[0m\u001b[0;34m]\u001b[0m \u001b[0;34m=\u001b[0m \u001b[0mkwds\u001b[0m\u001b[0;34m[\u001b[0m\u001b[0;34m\"has_index_names\"\u001b[0m\u001b[0;34m]\u001b[0m\u001b[0;34m\u001b[0m\u001b[0;34m\u001b[0m\u001b[0m\n\u001b[1;32m    818\u001b[0m \u001b[0;34m\u001b[0m\u001b[0m\n\u001b[0;32m--> 819\u001b[0;31m         \u001b[0mself\u001b[0m\u001b[0;34m.\u001b[0m\u001b[0m_engine\u001b[0m \u001b[0;34m=\u001b[0m \u001b[0mself\u001b[0m\u001b[0;34m.\u001b[0m\u001b[0m_make_engine\u001b[0m\u001b[0;34m(\u001b[0m\u001b[0mself\u001b[0m\u001b[0;34m.\u001b[0m\u001b[0mengine\u001b[0m\u001b[0;34m)\u001b[0m\u001b[0;34m\u001b[0m\u001b[0;34m\u001b[0m\u001b[0m\n\u001b[0m\u001b[1;32m    820\u001b[0m \u001b[0;34m\u001b[0m\u001b[0m\n\u001b[1;32m    821\u001b[0m     \u001b[0;32mdef\u001b[0m \u001b[0mclose\u001b[0m\u001b[0;34m(\u001b[0m\u001b[0mself\u001b[0m\u001b[0;34m)\u001b[0m\u001b[0;34m:\u001b[0m\u001b[0;34m\u001b[0m\u001b[0;34m\u001b[0m\u001b[0m\n",
      "\u001b[0;32m~/opt/anaconda3/lib/python3.8/site-packages/pandas/io/parsers.py\u001b[0m in \u001b[0;36m_make_engine\u001b[0;34m(self, engine)\u001b[0m\n\u001b[1;32m   1048\u001b[0m             )\n\u001b[1;32m   1049\u001b[0m         \u001b[0;31m# error: Too many arguments for \"ParserBase\"\u001b[0m\u001b[0;34m\u001b[0m\u001b[0;34m\u001b[0m\u001b[0;34m\u001b[0m\u001b[0m\n\u001b[0;32m-> 1050\u001b[0;31m         \u001b[0;32mreturn\u001b[0m \u001b[0mmapping\u001b[0m\u001b[0;34m[\u001b[0m\u001b[0mengine\u001b[0m\u001b[0;34m]\u001b[0m\u001b[0;34m(\u001b[0m\u001b[0mself\u001b[0m\u001b[0;34m.\u001b[0m\u001b[0mf\u001b[0m\u001b[0;34m,\u001b[0m \u001b[0;34m**\u001b[0m\u001b[0mself\u001b[0m\u001b[0;34m.\u001b[0m\u001b[0moptions\u001b[0m\u001b[0;34m)\u001b[0m  \u001b[0;31m# type: ignore[call-arg]\u001b[0m\u001b[0;34m\u001b[0m\u001b[0;34m\u001b[0m\u001b[0m\n\u001b[0m\u001b[1;32m   1051\u001b[0m \u001b[0;34m\u001b[0m\u001b[0m\n\u001b[1;32m   1052\u001b[0m     \u001b[0;32mdef\u001b[0m \u001b[0m_failover_to_python\u001b[0m\u001b[0;34m(\u001b[0m\u001b[0mself\u001b[0m\u001b[0;34m)\u001b[0m\u001b[0;34m:\u001b[0m\u001b[0;34m\u001b[0m\u001b[0;34m\u001b[0m\u001b[0m\n",
      "\u001b[0;32m~/opt/anaconda3/lib/python3.8/site-packages/pandas/io/parsers.py\u001b[0m in \u001b[0;36m__init__\u001b[0;34m(self, src, **kwds)\u001b[0m\n\u001b[1;32m   1865\u001b[0m \u001b[0;34m\u001b[0m\u001b[0m\n\u001b[1;32m   1866\u001b[0m         \u001b[0;31m# open handles\u001b[0m\u001b[0;34m\u001b[0m\u001b[0;34m\u001b[0m\u001b[0;34m\u001b[0m\u001b[0m\n\u001b[0;32m-> 1867\u001b[0;31m         \u001b[0mself\u001b[0m\u001b[0;34m.\u001b[0m\u001b[0m_open_handles\u001b[0m\u001b[0;34m(\u001b[0m\u001b[0msrc\u001b[0m\u001b[0;34m,\u001b[0m \u001b[0mkwds\u001b[0m\u001b[0;34m)\u001b[0m\u001b[0;34m\u001b[0m\u001b[0;34m\u001b[0m\u001b[0m\n\u001b[0m\u001b[1;32m   1868\u001b[0m         \u001b[0;32massert\u001b[0m \u001b[0mself\u001b[0m\u001b[0;34m.\u001b[0m\u001b[0mhandles\u001b[0m \u001b[0;32mis\u001b[0m \u001b[0;32mnot\u001b[0m \u001b[0;32mNone\u001b[0m\u001b[0;34m\u001b[0m\u001b[0;34m\u001b[0m\u001b[0m\n\u001b[1;32m   1869\u001b[0m         \u001b[0;32mfor\u001b[0m \u001b[0mkey\u001b[0m \u001b[0;32min\u001b[0m \u001b[0;34m(\u001b[0m\u001b[0;34m\"storage_options\"\u001b[0m\u001b[0;34m,\u001b[0m \u001b[0;34m\"encoding\"\u001b[0m\u001b[0;34m,\u001b[0m \u001b[0;34m\"memory_map\"\u001b[0m\u001b[0;34m,\u001b[0m \u001b[0;34m\"compression\"\u001b[0m\u001b[0;34m)\u001b[0m\u001b[0;34m:\u001b[0m\u001b[0;34m\u001b[0m\u001b[0;34m\u001b[0m\u001b[0m\n",
      "\u001b[0;32m~/opt/anaconda3/lib/python3.8/site-packages/pandas/io/parsers.py\u001b[0m in \u001b[0;36m_open_handles\u001b[0;34m(self, src, kwds)\u001b[0m\n\u001b[1;32m   1360\u001b[0m         \u001b[0mLet\u001b[0m \u001b[0mthe\u001b[0m \u001b[0mreaders\u001b[0m \u001b[0mopen\u001b[0m \u001b[0mIOHanldes\u001b[0m \u001b[0mafter\u001b[0m \u001b[0mthey\u001b[0m \u001b[0mare\u001b[0m \u001b[0mdone\u001b[0m \u001b[0;32mwith\u001b[0m \u001b[0mtheir\u001b[0m \u001b[0mpotential\u001b[0m \u001b[0mraises\u001b[0m\u001b[0;34m.\u001b[0m\u001b[0;34m\u001b[0m\u001b[0;34m\u001b[0m\u001b[0m\n\u001b[1;32m   1361\u001b[0m         \"\"\"\n\u001b[0;32m-> 1362\u001b[0;31m         self.handles = get_handle(\n\u001b[0m\u001b[1;32m   1363\u001b[0m             \u001b[0msrc\u001b[0m\u001b[0;34m,\u001b[0m\u001b[0;34m\u001b[0m\u001b[0;34m\u001b[0m\u001b[0m\n\u001b[1;32m   1364\u001b[0m             \u001b[0;34m\"r\"\u001b[0m\u001b[0;34m,\u001b[0m\u001b[0;34m\u001b[0m\u001b[0;34m\u001b[0m\u001b[0m\n",
      "\u001b[0;32m~/opt/anaconda3/lib/python3.8/site-packages/pandas/io/common.py\u001b[0m in \u001b[0;36mget_handle\u001b[0;34m(path_or_buf, mode, encoding, compression, memory_map, is_text, errors, storage_options)\u001b[0m\n\u001b[1;32m    640\u001b[0m                 \u001b[0merrors\u001b[0m \u001b[0;34m=\u001b[0m \u001b[0;34m\"replace\"\u001b[0m\u001b[0;34m\u001b[0m\u001b[0;34m\u001b[0m\u001b[0m\n\u001b[1;32m    641\u001b[0m             \u001b[0;31m# Encoding\u001b[0m\u001b[0;34m\u001b[0m\u001b[0;34m\u001b[0m\u001b[0;34m\u001b[0m\u001b[0m\n\u001b[0;32m--> 642\u001b[0;31m             handle = open(\n\u001b[0m\u001b[1;32m    643\u001b[0m                 \u001b[0mhandle\u001b[0m\u001b[0;34m,\u001b[0m\u001b[0;34m\u001b[0m\u001b[0;34m\u001b[0m\u001b[0m\n\u001b[1;32m    644\u001b[0m                 \u001b[0mioargs\u001b[0m\u001b[0;34m.\u001b[0m\u001b[0mmode\u001b[0m\u001b[0;34m,\u001b[0m\u001b[0;34m\u001b[0m\u001b[0;34m\u001b[0m\u001b[0m\n",
      "\u001b[0;31mFileNotFoundError\u001b[0m: [Errno 2] No such file or directory: '../data/PwrData_2022-3-30_17-39-1_DistillB_TokenFast.csv'"
     ]
    }
   ],
   "source": [
    "# Read data\n",
    "format = \"%H:%M:%S:%f\"\n",
    "data = pd.read_csv('../data/PwrData_2022-3-30_17-39-1_DistillB_TokenFast.csv')\n",
    "data.head()\n"
   ]
  },
  {
   "cell_type": "code",
   "execution_count": null,
   "metadata": {},
   "outputs": [],
   "source": [
    "# Show features\n",
    "for col in data.columns:\n",
    "    print(col)"
   ]
  },
  {
   "cell_type": "code",
   "execution_count": 3,
   "metadata": {},
   "outputs": [
    {
     "ename": "NameError",
     "evalue": "name 'data' is not defined",
     "output_type": "error",
     "traceback": [
      "\u001b[0;31m---------------------------------------------------------------------------\u001b[0m",
      "\u001b[0;31mNameError\u001b[0m                                 Traceback (most recent call last)",
      "\u001b[0;32m<ipython-input-3-f0d414721f59>\u001b[0m in \u001b[0;36m<module>\u001b[0;34m\u001b[0m\n\u001b[1;32m      1\u001b[0m \u001b[0;31m# Use datetime class for easier handling\u001b[0m\u001b[0;34m\u001b[0m\u001b[0;34m\u001b[0m\u001b[0;34m\u001b[0m\u001b[0m\n\u001b[1;32m      2\u001b[0m \u001b[0mformat\u001b[0m \u001b[0;34m=\u001b[0m \u001b[0;34m\"%H:%M:%S:%f\"\u001b[0m\u001b[0;34m\u001b[0m\u001b[0;34m\u001b[0m\u001b[0m\n\u001b[0;32m----> 3\u001b[0;31m \u001b[0mdata\u001b[0m\u001b[0;34m[\u001b[0m\u001b[0;34m'System Time'\u001b[0m\u001b[0;34m]\u001b[0m \u001b[0;34m=\u001b[0m \u001b[0mpd\u001b[0m\u001b[0;34m.\u001b[0m\u001b[0mto_datetime\u001b[0m\u001b[0;34m(\u001b[0m\u001b[0mdata\u001b[0m\u001b[0;34m[\u001b[0m\u001b[0;34m'System Time'\u001b[0m\u001b[0;34m]\u001b[0m\u001b[0;34m,\u001b[0m \u001b[0mformat\u001b[0m\u001b[0;34m=\u001b[0m\u001b[0mformat\u001b[0m\u001b[0;34m)\u001b[0m\u001b[0;34m\u001b[0m\u001b[0;34m\u001b[0m\u001b[0m\n\u001b[0m",
      "\u001b[0;31mNameError\u001b[0m: name 'data' is not defined"
     ]
    }
   ],
   "source": [
    "# Use datetime class for easier handling\n",
    "format = \"%H:%M:%S:%f\"\n",
    "data['System Time'] = pd.to_datetime(data['System Time'], format=format)"
   ]
  },
  {
   "cell_type": "code",
   "execution_count": 4,
   "metadata": {},
   "outputs": [],
   "source": [
    "# Base energy consumption: Energy consumption mean before first inference call\n",
    "def calculate_joules(test_data):\n",
    "    # Array of joule values for inferences\n",
    "    results = []\n",
    "\n",
    "    # For all inferences, calculate its joule consumption\n",
    "    for index in range(len(test_data)):   \n",
    "        inference_time = (test_data['stop'][index] -\n",
    "                          test_data['start'][index]).total_seconds()\n",
    "        #print(inference_time)\n",
    "        IA = data.loc[(data['System Time'] >= test_data['start'][index]) & (data['System Time'] <= test_data['stop'][index])]['Cumulative IA Energy_0(Joules)']\n",
    "        DRAM = data.loc[(data['System Time'] >= test_data['start'][index]) & (data['System Time'] <= test_data['stop'][index])]['Cumulative DRAM Energy_0(Joules)']\n",
    "        etot = (IA.iloc[-1]-IA.iloc[0] - (average_package_IA_0_Watt*inference_time)) + \\\n",
    "            (DRAM.iloc[-1]-DRAM.iloc[0] - (average_package_DRAM_0_Watt*inference_time))\n",
    "        #print(etot)\n",
    "        results.append(etot)\n",
    "\n",
    "    # Create dataframe and take mean of results\n",
    "    results_data = pd.DataFrame(results)\n",
    "\n",
    "    # Print analysis\n",
    "    print(\"This inference test used\", float(round(results_data.mean(), 2)), \"Joules in average (\", len(test_data), \"tests ) per inference.\")\n",
    "    print(\"That is equal to powering a 60W lightbulb for\", round(float(results_data.mean()/60), 2), \"seconds.\")\n"
   ]
  },
  {
   "cell_type": "code",
   "execution_count": 5,
   "metadata": {},
   "outputs": [
    {
     "ename": "FileNotFoundError",
     "evalue": "[Errno 2] No such file or directory: '../data/PwrData_2022-3-30_17-52-12_BertBase_TokenBase.csv'",
     "output_type": "error",
     "traceback": [
      "\u001b[0;31m---------------------------------------------------------------------------\u001b[0m",
      "\u001b[0;31mFileNotFoundError\u001b[0m                         Traceback (most recent call last)",
      "\u001b[0;32m<ipython-input-5-5565985242e6>\u001b[0m in \u001b[0;36m<module>\u001b[0;34m\u001b[0m\n\u001b[1;32m      3\u001b[0m \u001b[0;31m# file '../data/PwrData_2022-3-30_17-52-12_BertBase_TokenBase'\u001b[0m\u001b[0;34m\u001b[0m\u001b[0;34m\u001b[0m\u001b[0;34m\u001b[0m\u001b[0m\n\u001b[1;32m      4\u001b[0m \u001b[0;34m\u001b[0m\u001b[0m\n\u001b[0;32m----> 5\u001b[0;31m \u001b[0mdata\u001b[0m \u001b[0;34m=\u001b[0m \u001b[0mpd\u001b[0m\u001b[0;34m.\u001b[0m\u001b[0mread_csv\u001b[0m\u001b[0;34m(\u001b[0m\u001b[0;34m'../data/PwrData_2022-3-30_17-52-12_BertBase_TokenBase.csv'\u001b[0m\u001b[0;34m)\u001b[0m\u001b[0;34m\u001b[0m\u001b[0;34m\u001b[0m\u001b[0m\n\u001b[0m\u001b[1;32m      6\u001b[0m \u001b[0;34m\u001b[0m\u001b[0m\n\u001b[1;32m      7\u001b[0m \u001b[0maverage_package_IA_0_Watt\u001b[0m \u001b[0;34m=\u001b[0m \u001b[0;36m2.444594\u001b[0m  \u001b[0;31m# Processor cores\u001b[0m\u001b[0;34m\u001b[0m\u001b[0;34m\u001b[0m\u001b[0m\n",
      "\u001b[0;32m~/opt/anaconda3/lib/python3.8/site-packages/pandas/io/parsers.py\u001b[0m in \u001b[0;36mread_csv\u001b[0;34m(filepath_or_buffer, sep, delimiter, header, names, index_col, usecols, squeeze, prefix, mangle_dupe_cols, dtype, engine, converters, true_values, false_values, skipinitialspace, skiprows, skipfooter, nrows, na_values, keep_default_na, na_filter, verbose, skip_blank_lines, parse_dates, infer_datetime_format, keep_date_col, date_parser, dayfirst, cache_dates, iterator, chunksize, compression, thousands, decimal, lineterminator, quotechar, quoting, doublequote, escapechar, comment, encoding, dialect, error_bad_lines, warn_bad_lines, delim_whitespace, low_memory, memory_map, float_precision, storage_options)\u001b[0m\n\u001b[1;32m    608\u001b[0m     \u001b[0mkwds\u001b[0m\u001b[0;34m.\u001b[0m\u001b[0mupdate\u001b[0m\u001b[0;34m(\u001b[0m\u001b[0mkwds_defaults\u001b[0m\u001b[0;34m)\u001b[0m\u001b[0;34m\u001b[0m\u001b[0;34m\u001b[0m\u001b[0m\n\u001b[1;32m    609\u001b[0m \u001b[0;34m\u001b[0m\u001b[0m\n\u001b[0;32m--> 610\u001b[0;31m     \u001b[0;32mreturn\u001b[0m \u001b[0m_read\u001b[0m\u001b[0;34m(\u001b[0m\u001b[0mfilepath_or_buffer\u001b[0m\u001b[0;34m,\u001b[0m \u001b[0mkwds\u001b[0m\u001b[0;34m)\u001b[0m\u001b[0;34m\u001b[0m\u001b[0;34m\u001b[0m\u001b[0m\n\u001b[0m\u001b[1;32m    611\u001b[0m \u001b[0;34m\u001b[0m\u001b[0m\n\u001b[1;32m    612\u001b[0m \u001b[0;34m\u001b[0m\u001b[0m\n",
      "\u001b[0;32m~/opt/anaconda3/lib/python3.8/site-packages/pandas/io/parsers.py\u001b[0m in \u001b[0;36m_read\u001b[0;34m(filepath_or_buffer, kwds)\u001b[0m\n\u001b[1;32m    460\u001b[0m \u001b[0;34m\u001b[0m\u001b[0m\n\u001b[1;32m    461\u001b[0m     \u001b[0;31m# Create the parser.\u001b[0m\u001b[0;34m\u001b[0m\u001b[0;34m\u001b[0m\u001b[0;34m\u001b[0m\u001b[0m\n\u001b[0;32m--> 462\u001b[0;31m     \u001b[0mparser\u001b[0m \u001b[0;34m=\u001b[0m \u001b[0mTextFileReader\u001b[0m\u001b[0;34m(\u001b[0m\u001b[0mfilepath_or_buffer\u001b[0m\u001b[0;34m,\u001b[0m \u001b[0;34m**\u001b[0m\u001b[0mkwds\u001b[0m\u001b[0;34m)\u001b[0m\u001b[0;34m\u001b[0m\u001b[0;34m\u001b[0m\u001b[0m\n\u001b[0m\u001b[1;32m    463\u001b[0m \u001b[0;34m\u001b[0m\u001b[0m\n\u001b[1;32m    464\u001b[0m     \u001b[0;32mif\u001b[0m \u001b[0mchunksize\u001b[0m \u001b[0;32mor\u001b[0m \u001b[0miterator\u001b[0m\u001b[0;34m:\u001b[0m\u001b[0;34m\u001b[0m\u001b[0;34m\u001b[0m\u001b[0m\n",
      "\u001b[0;32m~/opt/anaconda3/lib/python3.8/site-packages/pandas/io/parsers.py\u001b[0m in \u001b[0;36m__init__\u001b[0;34m(self, f, engine, **kwds)\u001b[0m\n\u001b[1;32m    817\u001b[0m             \u001b[0mself\u001b[0m\u001b[0;34m.\u001b[0m\u001b[0moptions\u001b[0m\u001b[0;34m[\u001b[0m\u001b[0;34m\"has_index_names\"\u001b[0m\u001b[0;34m]\u001b[0m \u001b[0;34m=\u001b[0m \u001b[0mkwds\u001b[0m\u001b[0;34m[\u001b[0m\u001b[0;34m\"has_index_names\"\u001b[0m\u001b[0;34m]\u001b[0m\u001b[0;34m\u001b[0m\u001b[0;34m\u001b[0m\u001b[0m\n\u001b[1;32m    818\u001b[0m \u001b[0;34m\u001b[0m\u001b[0m\n\u001b[0;32m--> 819\u001b[0;31m         \u001b[0mself\u001b[0m\u001b[0;34m.\u001b[0m\u001b[0m_engine\u001b[0m \u001b[0;34m=\u001b[0m \u001b[0mself\u001b[0m\u001b[0;34m.\u001b[0m\u001b[0m_make_engine\u001b[0m\u001b[0;34m(\u001b[0m\u001b[0mself\u001b[0m\u001b[0;34m.\u001b[0m\u001b[0mengine\u001b[0m\u001b[0;34m)\u001b[0m\u001b[0;34m\u001b[0m\u001b[0;34m\u001b[0m\u001b[0m\n\u001b[0m\u001b[1;32m    820\u001b[0m \u001b[0;34m\u001b[0m\u001b[0m\n\u001b[1;32m    821\u001b[0m     \u001b[0;32mdef\u001b[0m \u001b[0mclose\u001b[0m\u001b[0;34m(\u001b[0m\u001b[0mself\u001b[0m\u001b[0;34m)\u001b[0m\u001b[0;34m:\u001b[0m\u001b[0;34m\u001b[0m\u001b[0;34m\u001b[0m\u001b[0m\n",
      "\u001b[0;32m~/opt/anaconda3/lib/python3.8/site-packages/pandas/io/parsers.py\u001b[0m in \u001b[0;36m_make_engine\u001b[0;34m(self, engine)\u001b[0m\n\u001b[1;32m   1048\u001b[0m             )\n\u001b[1;32m   1049\u001b[0m         \u001b[0;31m# error: Too many arguments for \"ParserBase\"\u001b[0m\u001b[0;34m\u001b[0m\u001b[0;34m\u001b[0m\u001b[0;34m\u001b[0m\u001b[0m\n\u001b[0;32m-> 1050\u001b[0;31m         \u001b[0;32mreturn\u001b[0m \u001b[0mmapping\u001b[0m\u001b[0;34m[\u001b[0m\u001b[0mengine\u001b[0m\u001b[0;34m]\u001b[0m\u001b[0;34m(\u001b[0m\u001b[0mself\u001b[0m\u001b[0;34m.\u001b[0m\u001b[0mf\u001b[0m\u001b[0;34m,\u001b[0m \u001b[0;34m**\u001b[0m\u001b[0mself\u001b[0m\u001b[0;34m.\u001b[0m\u001b[0moptions\u001b[0m\u001b[0;34m)\u001b[0m  \u001b[0;31m# type: ignore[call-arg]\u001b[0m\u001b[0;34m\u001b[0m\u001b[0;34m\u001b[0m\u001b[0m\n\u001b[0m\u001b[1;32m   1051\u001b[0m \u001b[0;34m\u001b[0m\u001b[0m\n\u001b[1;32m   1052\u001b[0m     \u001b[0;32mdef\u001b[0m \u001b[0m_failover_to_python\u001b[0m\u001b[0;34m(\u001b[0m\u001b[0mself\u001b[0m\u001b[0;34m)\u001b[0m\u001b[0;34m:\u001b[0m\u001b[0;34m\u001b[0m\u001b[0;34m\u001b[0m\u001b[0m\n",
      "\u001b[0;32m~/opt/anaconda3/lib/python3.8/site-packages/pandas/io/parsers.py\u001b[0m in \u001b[0;36m__init__\u001b[0;34m(self, src, **kwds)\u001b[0m\n\u001b[1;32m   1865\u001b[0m \u001b[0;34m\u001b[0m\u001b[0m\n\u001b[1;32m   1866\u001b[0m         \u001b[0;31m# open handles\u001b[0m\u001b[0;34m\u001b[0m\u001b[0;34m\u001b[0m\u001b[0;34m\u001b[0m\u001b[0m\n\u001b[0;32m-> 1867\u001b[0;31m         \u001b[0mself\u001b[0m\u001b[0;34m.\u001b[0m\u001b[0m_open_handles\u001b[0m\u001b[0;34m(\u001b[0m\u001b[0msrc\u001b[0m\u001b[0;34m,\u001b[0m \u001b[0mkwds\u001b[0m\u001b[0;34m)\u001b[0m\u001b[0;34m\u001b[0m\u001b[0;34m\u001b[0m\u001b[0m\n\u001b[0m\u001b[1;32m   1868\u001b[0m         \u001b[0;32massert\u001b[0m \u001b[0mself\u001b[0m\u001b[0;34m.\u001b[0m\u001b[0mhandles\u001b[0m \u001b[0;32mis\u001b[0m \u001b[0;32mnot\u001b[0m \u001b[0;32mNone\u001b[0m\u001b[0;34m\u001b[0m\u001b[0;34m\u001b[0m\u001b[0m\n\u001b[1;32m   1869\u001b[0m         \u001b[0;32mfor\u001b[0m \u001b[0mkey\u001b[0m \u001b[0;32min\u001b[0m \u001b[0;34m(\u001b[0m\u001b[0;34m\"storage_options\"\u001b[0m\u001b[0;34m,\u001b[0m \u001b[0;34m\"encoding\"\u001b[0m\u001b[0;34m,\u001b[0m \u001b[0;34m\"memory_map\"\u001b[0m\u001b[0;34m,\u001b[0m \u001b[0;34m\"compression\"\u001b[0m\u001b[0;34m)\u001b[0m\u001b[0;34m:\u001b[0m\u001b[0;34m\u001b[0m\u001b[0;34m\u001b[0m\u001b[0m\n",
      "\u001b[0;32m~/opt/anaconda3/lib/python3.8/site-packages/pandas/io/parsers.py\u001b[0m in \u001b[0;36m_open_handles\u001b[0;34m(self, src, kwds)\u001b[0m\n\u001b[1;32m   1360\u001b[0m         \u001b[0mLet\u001b[0m \u001b[0mthe\u001b[0m \u001b[0mreaders\u001b[0m \u001b[0mopen\u001b[0m \u001b[0mIOHanldes\u001b[0m \u001b[0mafter\u001b[0m \u001b[0mthey\u001b[0m \u001b[0mare\u001b[0m \u001b[0mdone\u001b[0m \u001b[0;32mwith\u001b[0m \u001b[0mtheir\u001b[0m \u001b[0mpotential\u001b[0m \u001b[0mraises\u001b[0m\u001b[0;34m.\u001b[0m\u001b[0;34m\u001b[0m\u001b[0;34m\u001b[0m\u001b[0m\n\u001b[1;32m   1361\u001b[0m         \"\"\"\n\u001b[0;32m-> 1362\u001b[0;31m         self.handles = get_handle(\n\u001b[0m\u001b[1;32m   1363\u001b[0m             \u001b[0msrc\u001b[0m\u001b[0;34m,\u001b[0m\u001b[0;34m\u001b[0m\u001b[0;34m\u001b[0m\u001b[0m\n\u001b[1;32m   1364\u001b[0m             \u001b[0;34m\"r\"\u001b[0m\u001b[0;34m,\u001b[0m\u001b[0;34m\u001b[0m\u001b[0;34m\u001b[0m\u001b[0m\n",
      "\u001b[0;32m~/opt/anaconda3/lib/python3.8/site-packages/pandas/io/common.py\u001b[0m in \u001b[0;36mget_handle\u001b[0;34m(path_or_buf, mode, encoding, compression, memory_map, is_text, errors, storage_options)\u001b[0m\n\u001b[1;32m    640\u001b[0m                 \u001b[0merrors\u001b[0m \u001b[0;34m=\u001b[0m \u001b[0;34m\"replace\"\u001b[0m\u001b[0;34m\u001b[0m\u001b[0;34m\u001b[0m\u001b[0m\n\u001b[1;32m    641\u001b[0m             \u001b[0;31m# Encoding\u001b[0m\u001b[0;34m\u001b[0m\u001b[0;34m\u001b[0m\u001b[0;34m\u001b[0m\u001b[0m\n\u001b[0;32m--> 642\u001b[0;31m             handle = open(\n\u001b[0m\u001b[1;32m    643\u001b[0m                 \u001b[0mhandle\u001b[0m\u001b[0;34m,\u001b[0m\u001b[0;34m\u001b[0m\u001b[0;34m\u001b[0m\u001b[0m\n\u001b[1;32m    644\u001b[0m                 \u001b[0mioargs\u001b[0m\u001b[0;34m.\u001b[0m\u001b[0mmode\u001b[0m\u001b[0;34m,\u001b[0m\u001b[0;34m\u001b[0m\u001b[0;34m\u001b[0m\u001b[0m\n",
      "\u001b[0;31mFileNotFoundError\u001b[0m: [Errno 2] No such file or directory: '../data/PwrData_2022-3-30_17-52-12_BertBase_TokenBase.csv'"
     ]
    }
   ],
   "source": [
    "# Bert with Base tokenizer\n",
    "# time points for inference. Is printed from server in terminal. Manual copy paste\n",
    "# file '../data/PwrData_2022-3-30_17-52-12_BertBase_TokenBase'\n",
    "\n",
    "data = pd.read_csv('../data/PwrData_2022-3-30_17-52-12_BertBase_TokenBase.csv')\n",
    "\n",
    "average_package_IA_0_Watt = 2.444594  # Processor cores\n",
    "average_package_DRAM_0_Watt = 0.802747  # DRAM\n",
    "\n",
    "start = [\"17:52:37:390973\", \"17:52:48:084213\", \"17:52:57:776978\", \"17:53:07:902355\",\n",
    "         \"17:53:17:663225\", \"17:53:27:842110\", \"17:53:37:723313\", \"17:53:47:806439\", \"17:53:57:983011\"]\n",
    "stop = [\"17:52:37:781357\", \"17:52:48:451189\", \"17:52:58:145045\", \"17:53:08:249960\",\n",
    "        \"17:53:18:027810\", \"17:53:28:200120\", \"17:53:38:102431\", \"17:53:48:167494\", \"17:53:58:344059\"]\n",
    "raw_data = {'start': start, 'stop': stop}\n",
    "test_data = pd.DataFrame(raw_data)\n",
    "\n",
    "# Change to datetime\n",
    "test_data['start'] = pd.to_datetime(test_data['start'], format=format)\n",
    "test_data['stop'] = pd.to_datetime(test_data['stop'], format=format)\n",
    "\n",
    "#Get information\n",
    "calculate_joules(test_data)\n"
   ]
  },
  {
   "cell_type": "code",
   "execution_count": null,
   "metadata": {},
   "outputs": [],
   "source": [
    "# Bert with Fast tokenizer\n",
    "# time points for inference. Is printed from server in terminal. Manual copy paste\n",
    "# file '../data/PwrData_2022-3-30_17-56-11_BertBase_TokenFast.csv'\n",
    "\n",
    "average_package_IA_0_Watt = 2.487954  # Processor cores\n",
    "average_package_DRAM_0_Watt = 0.781956  # DRAM\n",
    "\n",
    "start = [\"17:56:52:246043\", \"17:57:02:803731\", \"17:57:12:853513\", \"17:57:22:792384\", \"17:57:32:628873\", \"17:57:42:818806\", \"17:57:52:748800\", \"17:58:02:731718\", \"17:58:13:052807\"]\n",
    "stop = [\"17:56:52:621239\", \"17:57:03:158163\", \"17:57:13:187808\", \"17:57:23:114285\",\n",
    "        \"17:57:32:992533\", \"17:57:43:172161\", \"17:57:53:128326\", \"17:58:03:101447\", \"17:58:13:414140\"]\n",
    "raw_data = {'start': start, 'stop': stop}\n",
    "test_data = pd.DataFrame(raw_data)\n",
    "\n",
    "# Change to datetime\n",
    "test_data['start'] = pd.to_datetime(test_data['start'], format=format)\n",
    "test_data['stop'] = pd.to_datetime(test_data['stop'], format=format)\n",
    "\n",
    "#Get information\n",
    "calculate_joules(test_data)\n"
   ]
  },
  {
   "cell_type": "code",
   "execution_count": 177,
   "metadata": {},
   "outputs": [
    {
     "ename": "NameError",
     "evalue": "name 'data' is not defined",
     "output_type": "error",
     "traceback": [
      "\u001b[0;31m---------------------------------------------------------------------------\u001b[0m",
      "\u001b[0;31mNameError\u001b[0m                                 Traceback (most recent call last)",
      "\u001b[0;32m<ipython-input-177-646014cf2001>\u001b[0m in \u001b[0;36m<module>\u001b[0;34m\u001b[0m\n\u001b[1;32m     18\u001b[0m \u001b[0;34m\u001b[0m\u001b[0m\n\u001b[1;32m     19\u001b[0m \u001b[0;31m#Get information\u001b[0m\u001b[0;34m\u001b[0m\u001b[0;34m\u001b[0m\u001b[0;34m\u001b[0m\u001b[0m\n\u001b[0;32m---> 20\u001b[0;31m \u001b[0mcalculate_joules\u001b[0m\u001b[0;34m(\u001b[0m\u001b[0mtest_data\u001b[0m\u001b[0;34m)\u001b[0m\u001b[0;34m\u001b[0m\u001b[0;34m\u001b[0m\u001b[0m\n\u001b[0m",
      "\u001b[0;32m<ipython-input-175-ae4ff30c1121>\u001b[0m in \u001b[0;36mcalculate_joules\u001b[0;34m(test_data)\u001b[0m\n\u001b[1;32m      9\u001b[0m                           test_data['start'][index]).total_seconds()\n\u001b[1;32m     10\u001b[0m         \u001b[0;31m#print(inference_time)\u001b[0m\u001b[0;34m\u001b[0m\u001b[0;34m\u001b[0m\u001b[0;34m\u001b[0m\u001b[0m\n\u001b[0;32m---> 11\u001b[0;31m         \u001b[0mIA\u001b[0m \u001b[0;34m=\u001b[0m \u001b[0mdata\u001b[0m\u001b[0;34m.\u001b[0m\u001b[0mloc\u001b[0m\u001b[0;34m[\u001b[0m\u001b[0;34m(\u001b[0m\u001b[0mdata\u001b[0m\u001b[0;34m[\u001b[0m\u001b[0;34m'System Time'\u001b[0m\u001b[0;34m]\u001b[0m \u001b[0;34m>=\u001b[0m \u001b[0mtest_data\u001b[0m\u001b[0;34m[\u001b[0m\u001b[0;34m'start'\u001b[0m\u001b[0;34m]\u001b[0m\u001b[0;34m[\u001b[0m\u001b[0mindex\u001b[0m\u001b[0;34m]\u001b[0m\u001b[0;34m)\u001b[0m \u001b[0;34m&\u001b[0m \u001b[0;34m(\u001b[0m\u001b[0mdata\u001b[0m\u001b[0;34m[\u001b[0m\u001b[0;34m'System Time'\u001b[0m\u001b[0;34m]\u001b[0m \u001b[0;34m<=\u001b[0m \u001b[0mtest_data\u001b[0m\u001b[0;34m[\u001b[0m\u001b[0;34m'stop'\u001b[0m\u001b[0;34m]\u001b[0m\u001b[0;34m[\u001b[0m\u001b[0mindex\u001b[0m\u001b[0;34m]\u001b[0m\u001b[0;34m)\u001b[0m\u001b[0;34m]\u001b[0m\u001b[0;34m[\u001b[0m\u001b[0;34m'Cumulative IA Energy_0(Joules)'\u001b[0m\u001b[0;34m]\u001b[0m\u001b[0;34m\u001b[0m\u001b[0;34m\u001b[0m\u001b[0m\n\u001b[0m\u001b[1;32m     12\u001b[0m         \u001b[0mDRAM\u001b[0m \u001b[0;34m=\u001b[0m \u001b[0mdata\u001b[0m\u001b[0;34m.\u001b[0m\u001b[0mloc\u001b[0m\u001b[0;34m[\u001b[0m\u001b[0;34m(\u001b[0m\u001b[0mdata\u001b[0m\u001b[0;34m[\u001b[0m\u001b[0;34m'System Time'\u001b[0m\u001b[0;34m]\u001b[0m \u001b[0;34m>=\u001b[0m \u001b[0mtest_data\u001b[0m\u001b[0;34m[\u001b[0m\u001b[0;34m'start'\u001b[0m\u001b[0;34m]\u001b[0m\u001b[0;34m[\u001b[0m\u001b[0mindex\u001b[0m\u001b[0;34m]\u001b[0m\u001b[0;34m)\u001b[0m \u001b[0;34m&\u001b[0m \u001b[0;34m(\u001b[0m\u001b[0mdata\u001b[0m\u001b[0;34m[\u001b[0m\u001b[0;34m'System Time'\u001b[0m\u001b[0;34m]\u001b[0m \u001b[0;34m<=\u001b[0m \u001b[0mtest_data\u001b[0m\u001b[0;34m[\u001b[0m\u001b[0;34m'stop'\u001b[0m\u001b[0;34m]\u001b[0m\u001b[0;34m[\u001b[0m\u001b[0mindex\u001b[0m\u001b[0;34m]\u001b[0m\u001b[0;34m)\u001b[0m\u001b[0;34m]\u001b[0m\u001b[0;34m[\u001b[0m\u001b[0;34m'Cumulative DRAM Energy_0(Joules)'\u001b[0m\u001b[0;34m]\u001b[0m\u001b[0;34m\u001b[0m\u001b[0;34m\u001b[0m\u001b[0m\n\u001b[1;32m     13\u001b[0m         \u001b[0metot\u001b[0m \u001b[0;34m=\u001b[0m \u001b[0;34m(\u001b[0m\u001b[0mIA\u001b[0m\u001b[0;34m.\u001b[0m\u001b[0miloc\u001b[0m\u001b[0;34m[\u001b[0m\u001b[0;34m-\u001b[0m\u001b[0;36m1\u001b[0m\u001b[0;34m]\u001b[0m\u001b[0;34m-\u001b[0m\u001b[0mIA\u001b[0m\u001b[0;34m.\u001b[0m\u001b[0miloc\u001b[0m\u001b[0;34m[\u001b[0m\u001b[0;36m0\u001b[0m\u001b[0;34m]\u001b[0m \u001b[0;34m-\u001b[0m \u001b[0;34m(\u001b[0m\u001b[0maverage_package_IA_0_Watt\u001b[0m\u001b[0;34m*\u001b[0m\u001b[0minference_time\u001b[0m\u001b[0;34m)\u001b[0m\u001b[0;34m)\u001b[0m \u001b[0;34m+\u001b[0m\u001b[0;31m \u001b[0m\u001b[0;31m\\\u001b[0m\u001b[0;34m\u001b[0m\u001b[0;34m\u001b[0m\u001b[0m\n",
      "\u001b[0;31mNameError\u001b[0m: name 'data' is not defined"
     ]
    }
   ],
   "source": [
    "# DistilBert with Base tokenizer\n",
    "# time points for inference. Is printed from server in terminal. Manual copy paste\n",
    "# file '../data/PwrData_2022-3-30_17-34-21_DistilB_TokenBase'\n",
    "\n",
    "average_package_IA_0_Watt = 2.170134  # Processor cores\n",
    "average_package_DRAM_0_Watt = 0.761655  # DRAM\n",
    "\n",
    "start = [\"17:35:07:981976\", \"17:35:19:857305\", \"17:35:29:847685\",\n",
    "         \"17:35:40:825570\", \"17:35:51:696053\", \"17:36:02:749854\", \"17:36:15:081261\"]\n",
    "stop = [\"17:35:08:193973\",\"17:35:20:045336\",\"17:35:30:037010\",\"17:35:41:009115\",\"17:35:51:889220\",\"17:36:02:947101\", \"17:36:15:273468\"]\n",
    "\n",
    "raw_data = {'start': start, 'stop': stop}\n",
    "test_data_base = pd.DataFrame(raw_data)\n",
    "\n",
    "# Change to datetime\n",
    "test_data_base['start'] = pd.to_datetime(test_data_base['start'], format=format)\n",
    "test_data_base['stop'] = pd.to_datetime(test_data_base['stop'], format=format)\n",
    "\n",
    "#Get information\n",
    "calculate_joules(test_data_base)\n"
   ]
  },
  {
   "cell_type": "code",
   "execution_count": null,
   "metadata": {},
   "outputs": [],
   "source": [
    "\n",
    "# DistilBert with Fast tokenizer\n",
    "# time points for inference. Is printed from server in terminal. Manual copy paste\n",
    "# file '../data/PwrData_2022-3-30_17-39-1_DistillB_TokenFast'\n",
    "\n",
    "average_package_IA_0_Watt = 2.448825  # Processor cores\n",
    "average_package_DRAM_0_Watt = 0.787366  # DRAM\n",
    "\n",
    "start = [\"17:39:49:818053\", \"17:40:01:570284\", \"17:40:12:479477\", \"17:40:22:503546\", \"17:40:33:698376\", \"17:40:44:471115\", \"17:40:56:717608\"]\n",
    "stop = [\"17:39:50:019199\", \"17:40:01:768144\", \"17:40:12:671022\", \"17:40:22:697621\", \"17:40:33:900788\", \"17:40:44:659742\", \"17:40:56:914276\"]\n",
    "raw_data = {'start': start, 'stop': stop}\n",
    "test_data_fast = pd.DataFrame(raw_data)\n",
    "\n",
    "# Change to datetime\n",
    "test_data_fast['start'] = pd.to_datetime(test_data_fast['start'], format=format)\n",
    "test_data_fast['stop'] = pd.to_datetime(test_data_fast['stop'], format=format)\n",
    "\n",
    "#Get information\n",
    "calculate_joules(test_data_fast)\n"
   ]
  },
  {
   "cell_type": "code",
   "execution_count": null,
   "metadata": {},
   "outputs": [],
   "source": [
    "# Not used, see next cell\n",
    "\n",
    "# Mask values that we want\n",
    "mask1 = (data['System Time'] >= test_data['start'][4]) & (data['System Time'] <= test_data['stop'][4])\n",
    "mask2 = (data['System Time'] < test_data['start'][0])\n",
    "# Get data \n",
    "result = data.loc[mask1]\n",
    "base = data.loc[mask2]\n"
   ]
  },
  {
   "cell_type": "markdown",
   "metadata": {},
   "source": [
    "#### BertBase with Base Tokenizer\n",
    "\n",
    "This inference test used 4.55 Joules in average ( 9 tests ) per inference.\n",
    "\n",
    "That is equal to powering a 60W lightbulb for 0.08 seconds.\n",
    "\n",
    "#### BertBase with Fast Tokenizer\n",
    "\n",
    "This inference test used 5.05 Joules in average ( 9 tests ) per inference.\n",
    "\n",
    "That is equal to powering a 60W lightbulb for 0.08 seconds.\n",
    "\n",
    "#### DistilBert with Base Tokenizer\n",
    "\n",
    "This inference test used 2.39 Joules in average ( 7 tests ) per inference.\n",
    "\n",
    "That is equal to powering a 60W lightbulb for 0.04 seconds.\n",
    "\n",
    "#### DistilBase with Fast Tokenizer\n",
    "\n",
    "This inference test used 2.17 Joules in average ( 7 tests ) per inference.\n",
    "\n",
    "That is equal to powering a 60W lightbulb for 0.04 seconds.\n"
   ]
  },
  {
   "cell_type": "markdown",
   "metadata": {},
   "source": [
    "### NEXT PHASE\n",
    "\n",
    "Look into how the thesis is structured for understanding the lab structure more\n",
    "\n",
    "Look into experiment-impact-tracer to understand how it makes the carbon calculations. This will be useful here. "
   ]
  },
  {
   "cell_type": "code",
   "execution_count": null,
   "metadata": {},
   "outputs": [],
   "source": [
    "time_base = test_data_base['stop'] - test_data_base['start']\n",
    "time_fast = test_data_fast['stop'] - test_data_fast['start']\n",
    "\n",
    "time_base - time_fast"
   ]
  },
  {
   "cell_type": "markdown",
   "metadata": {},
   "source": []
  },
  {
   "cell_type": "markdown",
   "metadata": {},
   "source": [
    "## Inference Energy measurements"
   ]
  },
  {
   "cell_type": "code",
   "execution_count": null,
   "metadata": {},
   "outputs": [],
   "source": [
    "# Read data\n",
    "format = \"%H:%M:%S:%f\"\n",
    "data_bert_base = pd.read_csv('../data/PwrData_2022-4-21_10-30-33_bert_base.csv', low_memory=False)\n",
    "data_bert_fast = pd.read_csv('../data/PwrData_2022-4-21_9-57-2_bert_fast.csv', low_memory=False)\n",
    "data_albert_base = pd.read_csv('../data/PwrData_2022-4-21_11-9-21_albert_base.csv', low_memory=False)\n",
    "data_albert_fast = pd.read_csv('../data/PwrData_2022-4-21_11-34-55_albert_fast.csv', low_memory=False)\n",
    "data_roberta_base = pd.read_csv('../data/PwrData_2022-4-21_12-0-18_roberta_base.csv', low_memory=False)\n",
    "data_roberta_fast = pd.read_csv('../data/PwrData_2022-4-21_12-30-27_roberta_fast.csv', low_memory=False)\n",
    "data_distil_base = pd.read_csv('../data/PwrData_2022-4-21_12-56-54_distilbert_base.csv', low_memory=False)\n",
    "data_distil_fast = pd.read_csv('../data/PwrData_2022-4-21_13-15-31_distilbert_fast.csv', low_memory=False)\n",
    "\n",
    "data_bert_base['System Time'] = pd.to_datetime(data_bert_base['System Time'], format=format)\n",
    "data_bert_fast['System Time'] = pd.to_datetime(data_bert_fast['System Time'], format=format)\n",
    "data_albert_base['System Time'] = pd.to_datetime(data_albert_base['System Time'], format=format)\n",
    "data_albert_fast['System Time'] = pd.to_datetime(data_albert_fast['System Time'], format=format)\n",
    "data_roberta_base['System Time'] = pd.to_datetime(data_roberta_base['System Time'], format=format)\n",
    "data_roberta_fast['System Time'] = pd.to_datetime(data_roberta_fast['System Time'], format=format)\n",
    "data_distil_base['System Time'] = pd.to_datetime(data_distil_base['System Time'], format=format)\n",
    "data_distil_fast['System Time'] = pd.to_datetime(data_distil_fast['System Time'], format=format)"
   ]
  },
  {
   "cell_type": "code",
   "execution_count": null,
   "metadata": {},
   "outputs": [],
   "source": [
    "bert_base_time_test_start = pd.to_datetime('10:30:52:528', format=format)\n",
    "bert_fast_time_test_start = pd.to_datetime('09:58:07:289', format=format)\n",
    "albert_base_time_test_start = pd.to_datetime('11:09:53:963', format=format)\n",
    "albert_fast_time_test_start = pd.to_datetime('11:35:38:601', format=format)\n",
    "roberta_base_time_test_start = pd.to_datetime(\"12:00:42:400\", format=format)\n",
    "roberta_fast_time_test_start = pd.to_datetime(\"12:30:44:543\", format=format)\n",
    "distil_base_time_test_start = pd.to_datetime('12:57:36:015', format=format)\n",
    "distil_fast_time_test_start = pd.to_datetime('13:15:59:605', format=format)\n",
    "\n",
    "bert_base_time_test_stop = pd.to_datetime('10:55:10:646', format=format)\n",
    "bert_fast_time_test_stop = pd.to_datetime('10:22:25:714', format=format)\n",
    "albert_base_time_test_stop = pd.to_datetime('11:31:48:025', format=format)\n",
    "albert_fast_time_test_stop = pd.to_datetime('11:57:27:306', format=format)\n",
    "roberta_base_time_test_stop = pd.to_datetime(\"12:20:47:414\", format=format)\n",
    "roberta_fast_time_test_stop = pd.to_datetime(\"12:50:45:794\", format=format)\n",
    "distil_base_time_test_stop = pd.to_datetime('13:12:18:944', format=format)\n",
    "distil_fast_time_test_stop = pd.to_datetime('13:30:54:599', format=format)"
   ]
  },
  {
   "cell_type": "code",
   "execution_count": null,
   "metadata": {},
   "outputs": [],
   "source": [
    "bert_mask = (data_bert_base['System Time'] <= bert_base_time_test_start)\n",
    "albert_mask = (data_albert_base['System Time'] <=albert_base_time_test_start)\n",
    "roberta_mask = (data_roberta_fast['System Time'] <= roberta_fast_time_test_start)\n",
    "distil_mask = (data_distil_base['System Time'] <=distil_base_time_test_start)\n",
    "\n",
    "\n",
    "bert_cpu_watt_data = data_bert_base[bert_mask]['IA Power_0(Watt)']\n",
    "albert_cpu_watt_data = data_albert_base[albert_mask]['IA Power_0(Watt)']\n",
    "roberta_cpu_watt_data = data_roberta_fast[roberta_mask]['IA Power_0(Watt)']\n",
    "distil_cpu_watt_data = data_distil_base[distil_mask]['IA Power_0(Watt)']\n",
    "\n",
    "bert_dram_watt_data = data_bert_base[bert_mask]['DRAM Power_0(Watt)']\n",
    "albert_dram_watt_data = data_albert_base[albert_mask]['DRAM Power_0(Watt)']\n",
    "roberta_dram_watt_data = data_roberta_fast[roberta_mask]['DRAM Power_0(Watt)']\n",
    "distil_dram_watt_data = data_distil_base[distil_mask]['DRAM Power_0(Watt)']"
   ]
  },
  {
   "cell_type": "code",
   "execution_count": null,
   "metadata": {},
   "outputs": [],
   "source": [
    "bert_base_mask = ((data_bert_base['System Time'] >= bert_base_time_test_start) & (data_bert_base['System Time'] <= bert_base_time_test_stop))\n",
    "bert_fast_mask = ((data_bert_fast['System Time'] >= bert_fast_time_test_start) & (data_bert_fast['System Time'] <= bert_fast_time_test_stop))\n",
    "albert_base_mask = ((data_albert_base['System Time'] >= albert_base_time_test_start) & (data_albert_base['System Time'] <= albert_base_time_test_stop))\n",
    "albert_fast_mask = ((data_albert_fast['System Time'] >= albert_fast_time_test_start) & (data_albert_fast['System Time'] <= albert_fast_time_test_stop))\n",
    "roberta_base_mask = ((data_roberta_base['System Time'] >= roberta_base_time_test_start) & (data_roberta_base['System Time'] <= roberta_base_time_test_stop))\n",
    "roberta_fast_mask = ((data_roberta_fast['System Time'] >= roberta_fast_time_test_start) & (data_roberta_fast['System Time'] <= roberta_fast_time_test_stop))\n",
    "distil_base_mask = ((data_distil_base['System Time'] >= distil_base_time_test_start) & (data_distil_base['System Time'] <= distil_base_time_test_stop))\n",
    "distil_fast_mask = ((data_distil_fast['System Time'] >= distil_fast_time_test_start) & (data_distil_fast['System Time'] <= distil_fast_time_test_stop))"
   ]
  },
  {
   "cell_type": "code",
   "execution_count": null,
   "metadata": {},
   "outputs": [],
   "source": [
    "# Watt data\n",
    "bert_base_cpu_watt_data = data_bert_base[bert_base_mask]['IA Power_0(Watt)'] #was trained with albert tokenizer\n",
    "bert_fast_cpu_watt_data = data_bert_fast[bert_fast_mask]['IA Power_0(Watt)'] #was trained with albert tokenizer\n",
    "albert_base_cpu_watt_data = data_albert_base[albert_base_mask]['IA Power_0(Watt)']\n",
    "albert_fast_cpu_watt_data = data_albert_fast[albert_fast_mask]['IA Power_0(Watt)']\n",
    "roberta_base_cpu_watt_data = data_roberta_base[roberta_base_mask]['IA Power_0(Watt)']\n",
    "roberta_fast_cpu_watt_data = data_roberta_fast[roberta_fast_mask]['IA Power_0(Watt)']\n",
    "distil_base_cpu_watt_data = data_distil_base[distil_base_mask]['IA Power_0(Watt)']\n",
    "distil_fast_cpu_watt_data = data_distil_fast[distil_fast_mask]['IA Power_0(Watt)']\n",
    "\n",
    "bert_base_dram_watt_data = data_bert_base[bert_base_mask]['DRAM Power_0(Watt)']\n",
    "bert_fast_dram_watt_data = data_bert_fast[bert_fast_mask]['DRAM Power_0(Watt)']\n",
    "albert_base_dram_watt_data = data_albert_base[albert_base_mask]['DRAM Power_0(Watt)']\n",
    "albert_fast_dram_watt_data = data_albert_fast[albert_fast_mask]['DRAM Power_0(Watt)']\n",
    "roberta_base_dram_watt_data = data_roberta_base[roberta_base_mask]['DRAM Power_0(Watt)']\n",
    "roberta_fast_dram_watt_data = data_roberta_fast[roberta_fast_mask]['DRAM Power_0(Watt)']\n",
    "distil_base_dram_watt_data = data_distil_base[distil_base_mask]['DRAM Power_0(Watt)']\n",
    "distil_fast_dram_watt_data = data_distil_fast[distil_fast_mask]['DRAM Power_0(Watt)']"
   ]
  },
  {
   "cell_type": "code",
   "execution_count": null,
   "metadata": {},
   "outputs": [],
   "source": [
    "albert_base_dram_watt_data.median() - albert_fast_dram_watt_data.median()"
   ]
  },
  {
   "cell_type": "code",
   "execution_count": null,
   "metadata": {},
   "outputs": [],
   "source": [
    "(bert_base_time_test_stop - bert_base_time_test_start).total_seconds()"
   ]
  },
  {
   "cell_type": "code",
   "execution_count": null,
   "metadata": {},
   "outputs": [],
   "source": [
    "# accumulated joules df.index[df.index.get_loc(dt, method='nearest')]\n",
    "bert_base_cpu_joules_data = data_bert_base['Cumulative IA Energy_0(Joules)'][data_bert_base['System Time'] == bert_base_time_test_stop].values[0] - data_bert_base['Cumulative IA Energy_0(Joules)'][data_bert_base['System Time'] == bert_base_time_test_start].values[0] \n",
    "bert_fast_cpu_joules_data = data_bert_fast['Cumulative IA Energy_0(Joules)'][data_bert_fast['System Time'] == bert_fast_time_test_stop].values[0] - data_bert_fast['Cumulative IA Energy_0(Joules)'][data_bert_fast['System Time'] == bert_fast_time_test_start].values[0] \n",
    "albert_base_cpu_joules_data = data_albert_base['Cumulative IA Energy_0(Joules)'][data_albert_base['System Time'] == albert_base_time_test_stop].values[0] - data_albert_base['Cumulative IA Energy_0(Joules)'][data_albert_base['System Time'] == albert_base_time_test_start].values[0] \n",
    "albert_fast_cpu_joules_data = data_albert_fast['Cumulative IA Energy_0(Joules)'][data_albert_fast['System Time'] == albert_fast_time_test_stop].values[0] - data_albert_fast['Cumulative IA Energy_0(Joules)'][data_albert_fast['System Time'] == albert_fast_time_test_start].values[0] \n",
    "roberta_base_cpu_joules_data = data_roberta_base['Cumulative IA Energy_0(Joules)'][data_roberta_base['System Time'] == roberta_base_time_test_stop].values[0] - data_roberta_base['Cumulative IA Energy_0(Joules)'][data_roberta_base['System Time'] == roberta_base_time_test_start].values[0] \n",
    "roberta_fast_cpu_joules_data = data_roberta_fast['Cumulative IA Energy_0(Joules)'][data_roberta_fast['System Time'] == roberta_fast_time_test_stop].values[0] - data_roberta_fast['Cumulative IA Energy_0(Joules)'][data_roberta_fast['System Time'] == roberta_fast_time_test_start].values[0] \n",
    "distil_base_cpu_joules_data = data_distil_base['Cumulative IA Energy_0(Joules)'][data_distil_base['System Time'] == distil_base_time_test_stop].values[0] - data_distil_base['Cumulative IA Energy_0(Joules)'][data_distil_base['System Time'] == distil_base_time_test_start].values[0] \n",
    "distil_fast_cpu_joules_data = data_distil_fast['Cumulative IA Energy_0(Joules)'][data_distil_fast['System Time'] == distil_fast_time_test_stop].values[0] - data_distil_fast['Cumulative IA Energy_0(Joules)'][data_distil_fast['System Time'] == distil_fast_time_test_start].values[0] \n",
    "\n",
    "bert_base_dram_joules_data = data_bert_base['Cumulative DRAM Energy_0(Joules)'][data_bert_base['System Time'] == bert_base_time_test_stop].values[0] - data_bert_base['Cumulative DRAM Energy_0(Joules)'][data_bert_base['System Time'] == bert_base_time_test_start].values[0] \n",
    "bert_fast_dram_joules_data = data_bert_fast['Cumulative DRAM Energy_0(Joules)'][data_bert_fast['System Time'] == bert_fast_time_test_stop].values[0] - data_bert_fast['Cumulative DRAM Energy_0(Joules)'][data_bert_fast['System Time'] == bert_fast_time_test_start].values[0] \n",
    "albert_base_dram_joules_data = data_albert_base['Cumulative DRAM Energy_0(Joules)'][data_albert_base['System Time'] == albert_base_time_test_stop].values[0] - data_albert_base['Cumulative DRAM Energy_0(Joules)'][data_albert_base['System Time'] == albert_base_time_test_start].values[0] \n",
    "albert_fast_dram_joules_data = data_albert_fast['Cumulative DRAM Energy_0(Joules)'][data_albert_fast['System Time'] == albert_fast_time_test_stop].values[0] - data_albert_fast['Cumulative DRAM Energy_0(Joules)'][data_albert_fast['System Time'] == albert_fast_time_test_start].values[0] \n",
    "roberta_base_dram_joules_data = data_roberta_base['Cumulative DRAM Energy_0(Joules)'][data_roberta_base['System Time'] == roberta_base_time_test_stop].values[0] - data_roberta_base['Cumulative DRAM Energy_0(Joules)'][data_roberta_base['System Time'] == roberta_base_time_test_start].values[0] \n",
    "roberta_fast_dram_joules_data = data_roberta_fast['Cumulative DRAM Energy_0(Joules)'][data_roberta_fast['System Time'] == roberta_fast_time_test_stop].values[0] - data_roberta_fast['Cumulative DRAM Energy_0(Joules)'][data_roberta_fast['System Time'] == roberta_fast_time_test_start].values[0] \n",
    "distil_base_dram_joules_data = data_distil_base['Cumulative DRAM Energy_0(Joules)'][data_distil_base['System Time'] == distil_base_time_test_stop].values[0] - data_distil_base['Cumulative DRAM Energy_0(Joules)'][data_distil_base['System Time'] == distil_base_time_test_start].values[0] \n",
    "distil_fast_dram_joules_data = data_distil_fast['Cumulative DRAM Energy_0(Joules)'][data_distil_fast['System Time'] == distil_fast_time_test_stop].values[0] - data_distil_fast['Cumulative DRAM Energy_0(Joules)'][data_distil_fast['System Time'] == distil_fast_time_test_start].values[0] "
   ]
  },
  {
   "cell_type": "code",
   "execution_count": 8,
   "metadata": {},
   "outputs": [
    {
     "data": {
      "text/plain": [
       "0.6228136142625617"
      ]
     },
     "execution_count": 8,
     "metadata": {},
     "output_type": "execute_result"
    }
   ],
   "source": [
    "# Idle check\n",
    "idle_data = pd.read_csv('../data/PwrData_2022-4-23_19-6-47_idle_data.csv', low_memory=False)\n",
    "# idle_data = pd.read_csv('../data/PwrData_2022-5-12_11-38-18_idle.csv', low_memory=False)\n",
    "\n",
    "idle_cpu_joules_data = idle_data['IA Power_0(Watt)'].iloc[:-12] \n",
    "\n",
    "idle_dram_joules_data = idle_data['DRAM Power_0(Watt)'].iloc[:-12]\n",
    "\n",
    "# Average DRAM watt \n",
    "avr_idle_DRAM = idle_cpu_joules_data.mean()\n",
    "\n",
    "# Average CPU watt \n",
    "avr_idle_CPU = idle_dram_joules_data.mean()\n",
    "\n",
    "avr_idle_DRAM"
   ]
  },
  {
   "cell_type": "code",
   "execution_count": null,
   "metadata": {},
   "outputs": [],
   "source": [
    "# Total CPU and DRAM joules for bert base\n",
    "bert_base_joules = bert_base_cpu_joules_data + bert_base_dram_joules_data - (bert_base_time_test_stop - bert_base_time_test_start).total_seconds() * (avr_idle_CPU + avr_idle_DRAM)"
   ]
  },
  {
   "cell_type": "code",
   "execution_count": null,
   "metadata": {},
   "outputs": [],
   "source": [
    "# Total CPU and DRAM joules for bert fast\n",
    "bert_fast_joules = bert_fast_cpu_joules_data + bert_fast_dram_joules_data - (bert_fast_time_test_stop - bert_fast_time_test_start).total_seconds() * (avr_idle_CPU + avr_idle_DRAM)"
   ]
  },
  {
   "cell_type": "code",
   "execution_count": null,
   "metadata": {},
   "outputs": [],
   "source": [
    "# Total CPU and DRAM joules for albert base\n",
    "albert_base_joules = albert_base_cpu_joules_data + albert_base_dram_joules_data - (albert_base_time_test_stop - albert_base_time_test_start).total_seconds() * (avr_idle_CPU + avr_idle_DRAM)"
   ]
  },
  {
   "cell_type": "code",
   "execution_count": null,
   "metadata": {},
   "outputs": [],
   "source": [
    "# Total CPU and DRAM joules for albert fast\n",
    "albert_fast_joules = albert_fast_cpu_joules_data + albert_fast_dram_joules_data - (albert_fast_time_test_stop - albert_fast_time_test_start).total_seconds() * (avr_idle_CPU + avr_idle_DRAM)"
   ]
  },
  {
   "cell_type": "code",
   "execution_count": null,
   "metadata": {},
   "outputs": [],
   "source": [
    "# Total CPU and DRAM joules for roberta base\n",
    "roberta_base_joules = roberta_base_cpu_joules_data + roberta_base_dram_joules_data - (roberta_base_time_test_stop - roberta_base_time_test_start).total_seconds() * (avr_idle_CPU + avr_idle_DRAM)"
   ]
  },
  {
   "cell_type": "code",
   "execution_count": null,
   "metadata": {},
   "outputs": [],
   "source": [
    "# Total CPU and DRAM joules for roberta fast\n",
    "roberta_fast_joules = roberta_fast_cpu_joules_data + roberta_fast_dram_joules_data - (roberta_fast_time_test_stop - roberta_fast_time_test_start).total_seconds() * (avr_idle_CPU + avr_idle_DRAM)"
   ]
  },
  {
   "cell_type": "code",
   "execution_count": null,
   "metadata": {},
   "outputs": [],
   "source": [
    "# Total CPU and DRAM joules for distilbert base\n",
    "distil_base_joules = distil_base_cpu_joules_data + distil_base_dram_joules_data - (distil_base_time_test_stop - distil_base_time_test_start).total_seconds() * (avr_idle_CPU + avr_idle_DRAM)"
   ]
  },
  {
   "cell_type": "code",
   "execution_count": null,
   "metadata": {},
   "outputs": [],
   "source": [
    "# Total CPU and DRAM joules for distilbert fast\n",
    "distil_fast_joules = distil_fast_cpu_joules_data + distil_fast_dram_joules_data - (distil_fast_time_test_stop - distil_fast_time_test_start).total_seconds() * (avr_idle_CPU + avr_idle_DRAM)"
   ]
  },
  {
   "cell_type": "markdown",
   "metadata": {},
   "source": [
    "##### Idle energy check"
   ]
  },
  {
   "cell_type": "markdown",
   "metadata": {},
   "source": [
    "## Summary all fast tokenizers were more energy efficient regarding the three scenarios\n",
    "### The following printouts are the results of the inference measurements\n",
    "\n",
    "-  Bert with base tokenizer consumed 17724.58 joules while fast tokenizer consumed 17649.13 joules. The base tokenizer consumed 75.45 joules more compared to fast.\n",
    "- Albert with base tokenizer consumed 20143.18 joules while fast tokenizer consumed 19952.61 joules. The base tokenizer consumed 190.57 joules more compared to fast.\n",
    "- Roberta with base tokenizer consumed 18156.3 joules while fast tokenizer consumed 17262.12 joules. The base tokenizer consumed 894.18 joules more compared to fast.\n",
    "- Distilbert with base tokenizer consumed 9260.82 joules while fast tokenizer consumed 8774.91 joules. The base tokenizer consumed 485.92 joules more compared to fast."
   ]
  },
  {
   "cell_type": "code",
   "execution_count": null,
   "metadata": {},
   "outputs": [],
   "source": [
    "print(\"Bert with base tokenizer consumed \" + str(round(bert_base_joules, 2)) + \" joules while fast tokenizer consumed \" + str(round(bert_fast_joules,2)) + \" joules. The base tokenizer consumed \" +str(round(bert_base_joules-bert_fast_joules,2))+ \" joules more compared to fast.\")\n",
    "print(\"Albert with base tokenizer consumed \" + str(round(albert_base_joules, 2)) + \" joules while fast tokenizer consumed \" + str(round(albert_fast_joules,2)) + \" joules. The base tokenizer consumed \" +str(round(albert_base_joules-albert_fast_joules,2))+ \" joules more compared to fast.\")\n",
    "print(\"Roberta with base tokenizer consumed \" + str(round(roberta_base_joules, 2)) + \" joules while fast tokenizer consumed \" + str(round(roberta_fast_joules,2)) + \" joules. The base tokenizer consumed \" +str(round(roberta_base_joules-roberta_fast_joules,2))+ \" joules more compared to fast.\")\n",
    "print(\"Distilbert with base tokenizer consumed \" + str(round(distil_base_joules, 2)) + \" joules while fast tokenizer consumed \" + str(round(distil_fast_joules,2)) + \" joules. The base tokenizer consumed \" +str(round(distil_base_joules-distil_fast_joules,2))+ \" joules more compared to fast.\")"
   ]
  },
  {
   "cell_type": "code",
   "execution_count": null,
   "metadata": {},
   "outputs": [],
   "source": [
    "distil_base_time = (distil_base_time_test_stop - distil_base_time_test_start).total_seconds()\n",
    "distil_fast_time = (distil_fast_time_test_stop - distil_fast_time_test_start).total_seconds()\n",
    "roberta_fast_time = (roberta_fast_time_test_stop - roberta_fast_time_test_start).total_seconds()\n",
    "roberta_base_time = (roberta_base_time_test_stop - roberta_base_time_test_start).total_seconds()\n",
    "albert_fast_time = (albert_fast_time_test_stop - albert_fast_time_test_start).total_seconds()\n",
    "albert_base_time = (albert_base_time_test_stop - albert_base_time_test_start).total_seconds()\n",
    "bert_fast_time = (bert_fast_time_test_stop - bert_fast_time_test_start).total_seconds()\n",
    "bert_base_time =  (bert_base_time_test_stop - bert_base_time_test_start).total_seconds()"
   ]
  },
  {
   "cell_type": "code",
   "execution_count": null,
   "metadata": {},
   "outputs": [],
   "source": [
    "times = [bert_base_time,bert_fast_time,albert_base_time,albert_fast_time,roberta_base_time,roberta_fast_time,distil_base_time, distil_fast_time]\n",
    "[time/60 for time in times]"
   ]
  },
  {
   "cell_type": "code",
   "execution_count": null,
   "metadata": {},
   "outputs": [],
   "source": [
    "start_heavy = pd.to_datetime('10:17:26:426', format=format )\n",
    "stop_burst = pd.to_datetime('10:12:36:390', format=format )\n",
    "( 1458.425 - (start_heavy - stop_burst).total_seconds())/60"
   ]
  },
  {
   "cell_type": "markdown",
   "metadata": {},
   "source": [
    "## Cold-start Energy measurements"
   ]
  },
  {
   "cell_type": "code",
   "execution_count": null,
   "metadata": {},
   "outputs": [],
   "source": [
    "bert_cold_cpu = 235.361145\n",
    "bert_cold_dram = 30.152710\n",
    "albert_cold_cpu = 163.450928\n",
    "albert_cold_dram = 19.877869\n",
    "roberta_cold_cpu = 239.493774\n",
    "roberta_cold_dram = 23.153809\n",
    "distil_cold_cpu = 191.256592\n",
    "distil_cold_dram = 21.024353\n",
    "\n",
    "distil_cold_cpu_collect = 184.140686\n",
    "distil_cold_dram_collect = 22.323303\n",
    "\n",
    "bert_cold_cpu_collect = 232.323181\n",
    "bert_cold_dram_collect = 26.115784\n",
    "\n",
    "albert_cold_collect_cpu = 155.775696\n",
    "albert_cold_collect_dram = 17.405151\n",
    "\n",
    "roberta_cold_collect_cpu = 233.304688\n",
    "roberta_cold_collect_dram = 64.806858"
   ]
  },
  {
   "cell_type": "code",
   "execution_count": null,
   "metadata": {},
   "outputs": [],
   "source": [
    "bert_cold_joules = bert_cold_cpu + bert_cold_dram - (bert_cold_time_test_stop - bert_cold_time_test_start).total_seconds() * (avr_idle_CPU + avr_idle_DRAM)\n",
    "albert_cold_joules = albert_cold_cpu + albert_cold_dram - (albert_cold_time_test_stop - albert_cold_time_test_start).total_seconds() * (avr_idle_CPU + avr_idle_DRAM)\n",
    "roberta_cold_joules = roberta_cold_cpu + roberta_cold_dram - (roberta_cold_time_test_stop - roberta_cold_time_test_start).total_seconds() * (avr_idle_CPU + avr_idle_DRAM)\n",
    "distil_cold_joules = distil_cold_cpu + distil_cold_dram - (distil_cold_time_test_stop - distil_cold_time_test_start).total_seconds() * (avr_idle_CPU + avr_idle_DRAM)\n",
    "\n",
    "distil_cold_collect_joules = distil_cold_cpu_collect + distil_cold_dram_collect - (distil_cold_collect_time_test_stop - distil_cold_collect_time_test_start).total_seconds() * (avr_idle_CPU + avr_idle_DRAM)\n",
    "bert_cold_collect_joules = bert_cold_cpu_collect + bert_cold_dram_collect - (bert_cold_collect_time_test_stop - bert_cold_collect_time_test_start).total_seconds() * (avr_idle_CPU + avr_idle_DRAM)\n",
    "albert_cold_collect_joules = albert_cold_collect_cpu + albert_cold_collect_dram - (albert_cold_collect_time_test_stop - albert_cold_collect_time_test_start).total_seconds() * (avr_idle_CPU + avr_idle_DRAM)\n",
    "roberta_cold_collect_joules = roberta_cold_collect_cpu + roberta_cold_collect_dram - (roberta_cold_collect_time_test_stop - roberta_cold_collect_time_test_start).total_seconds() * (avr_idle_CPU + avr_idle_DRAM)"
   ]
  },
  {
   "cell_type": "code",
   "execution_count": null,
   "metadata": {},
   "outputs": [],
   "source": [
    "cold1 = [bert_cold_joules,albert_cold_joules,roberta_cold_joules,distil_cold_joules]"
   ]
  },
  {
   "cell_type": "code",
   "execution_count": null,
   "metadata": {},
   "outputs": [],
   "source": [
    "cold2 = [bert_cold_collect_joules,albert_cold_collect_joules,roberta_cold_collect_joules,distil_cold_collect_joules]\n",
    "cold = []\n",
    "def colds(a, b):\n",
    "    for i in range(len(a)):\n",
    "        cold.append((a[i]+b[i])/2)\n",
    "colds(cold1, cold2)\n",
    "cold"
   ]
  },
  {
   "cell_type": "markdown",
   "metadata": {},
   "source": [
    "## Fine-tuning Energy measurements"
   ]
  },
  {
   "cell_type": "code",
   "execution_count": 3,
   "metadata": {},
   "outputs": [],
   "source": [
    "from datetime import datetime, timedelta\n",
    "import matplotlib.pyplot as plt\n",
    "import pandas as pd\n",
    "import math\n",
    "from scipy import integrate"
   ]
  },
  {
   "cell_type": "markdown",
   "metadata": {},
   "source": [
    "### DistilBert"
   ]
  },
  {
   "cell_type": "code",
   "execution_count": 3,
   "metadata": {},
   "outputs": [],
   "source": [
    "distil_istat = pd.read_csv('../data/distil_GPU_1.csv', low_memory=False)\n",
    "distil_power_gadget = pd.read_csv('../data/PwrData_2022-4-22_14-2-15_distil_1.csv', low_memory=False)\n",
    "\n",
    "test_start = int((pd.to_datetime(distil_power_gadget['System Time'][0][:-4], format=\"%H:%M:%S\") + timedelta(days=44671)).strftime('%s'))\n",
    "test_stop = int((pd.to_datetime(distil_power_gadget['System Time'].iloc[-12][:-4], format=\"%H:%M:%S\") + timedelta(days=44671)).strftime('%s'))\n",
    "\n",
    "# Manual convertion of start and end time\n",
    "distil_data_program_start = test_start\n",
    "distil_training_start = 1650628975\n",
    "distil_training_stop = test_stop\n",
    "\n",
    "# total training time in seconds\n",
    "training_time = (datetime.fromtimestamp(distil_training_stop) - datetime.fromtimestamp(distil_training_start)).total_seconds()\n",
    "\n",
    "distil_training_cpu = float(distil_power_gadget['System Time'].iloc[-6][34:]) \n",
    "distil_training_dram = float(distil_power_gadget['System Time'].iloc[-3][36:])\n",
    "\n",
    "# Watts during training 60 steps \n",
    "idle_GPU = distil_istat[distil_training_start >= distil_istat['time']]['watt']\n",
    "distil_istat = distil_istat[(distil_training_start <= distil_istat['time']) & (distil_training_stop >= distil_istat['time'])]\n",
    "distil_istat.tail()\n",
    "\n",
    "# GPU idle energy \n",
    "GPU_idle_joules =  training_time * idle_GPU.mean()"
   ]
  },
  {
   "cell_type": "code",
   "execution_count": 4,
   "metadata": {},
   "outputs": [
    {
     "name": "stdout",
     "output_type": "stream",
     "text": [
      "241.22451863857378 487.86653491734256\n"
     ]
    }
   ],
   "source": [
    "\n",
    "# Separate setup time and training time and add training time cpu and dram when calculating the energy for one step. \n",
    "# There is an overlap between training start and setup stop. Setup stop seemes to be 113 ~rows+ = 5s from training start location.  \n",
    "\n",
    "timesHelper = lambda x:(pd.to_datetime(distil_power_gadget['System Time'].iloc[:-12][x], format=\"%H:%M:%S:%f\") + timedelta(days=44671)).strftime('%s')\n",
    "getRowOfUnixTime = lambda x: [timesHelper(i) for i in range(distil_power_gadget.shape[0]-12)].index(str(x))\n",
    "getDateTime = lambda x, y=0: distil_power_gadget['System Time'].iloc[:-12][x + y]\n",
    "getDataFromRow = lambda col, x: distil_power_gadget[col].iloc[:-12][x]\n",
    "\n",
    "# (datetime.utcfromtimestamp(distil_training_start) + timedelta(hours=2))\n",
    "\n",
    "# PRE POST trainign energy  \n",
    "setup_stop_row = getRowOfUnixTime(distil_training_start)\n",
    "pre = getDataFromRow('Cumulative IA Energy_0(Joules)', setup_stop_row)\n",
    "pre = pre + getDataFromRow('Cumulative DRAM Energy_0(Joules)', setup_stop_row) \n",
    "post = distil_training_cpu + distil_training_dram - pre \n",
    "\n",
    "# CPU and DRAM energy \n",
    "distil_setup_cpu_dram_joules_1 = pre - (int(timesHelper(setup_stop_row)) - int(timesHelper(0)))*(avr_idle_CPU+avr_idle_DRAM)\n",
    "distil_training_cpu_dram_joules_1 = post - (int(timesHelper(distil_power_gadget.shape[0]-13)) - int(timesHelper(setup_stop_row)))*(avr_idle_CPU+avr_idle_DRAM)\n",
    "print(distil_setup_cpu_dram_joules_1, distil_training_cpu_dram_joules_1)"
   ]
  },
  {
   "cell_type": "code",
   "execution_count": 5,
   "metadata": {},
   "outputs": [
    {
     "data": {
      "image/png": "[encoded data removed]",
      "text/plain": [
       "<Figure size 432x288 with 1 Axes>"
      ]
     },
     "metadata": {
      "needs_background": "light"
     },
     "output_type": "display_data"
    },
    {
     "name": "stdout",
     "output_type": "stream",
     "text": [
      "GPU joules per step is: 140.75929994339646\n"
     ]
    }
   ],
   "source": [
    "\n",
    "# Plot watt usage and calculate total energy of system\n",
    "plt.plot(distil_istat['time'], distil_istat['watt'])\n",
    "plt.show()\n",
    "test1 = (integrate.trapz(distil_istat.watt, x=distil_istat.time) - GPU_idle_joules + distil_training_cpu_dram_joules_1)/60\n",
    "GPU_Energy_test1 = (integrate.trapz(distil_istat.watt, x=distil_istat.time) - GPU_idle_joules)/60\n",
    "print(\"GPU joules per step is:\", test1)"
   ]
  },
  {
   "cell_type": "code",
   "execution_count": 6,
   "metadata": {},
   "outputs": [
    {
     "data": {
      "text/plain": [
       "1650711532"
      ]
     },
     "execution_count": 6,
     "metadata": {},
     "output_type": "execute_result"
    }
   ],
   "source": [
    "# Distil training 2 70 steps\n",
    "distil_istat = pd.read_csv('../data/distil_GPU_2.csv', low_memory=False)\n",
    "\n",
    "distil_power_gadget = pd.read_csv('../data/PwrData_2022-4-23_12-58-52_distil_training_2.csv', low_memory=False)\n",
    "\n",
    "test_start = int((pd.to_datetime(distil_power_gadget['System Time'][0][:-4], format=\"%H:%M:%S\") + timedelta(days=44672)).strftime('%s'))\n",
    "test_stop = int((pd.to_datetime(distil_power_gadget['System Time'].iloc[-12][:-4], format=\"%H:%M:%S\") + timedelta(days=44672)).strftime('%s'))\n",
    "\n",
    "# Manual convertion of start and end time\n",
    "distil_data_program_start = test_start\n",
    "distil_training_start = 1650711573\n",
    "distil_training_stop = test_stop\n",
    "\n",
    "# total training time in seconds\n",
    "training_time = (datetime.fromtimestamp(distil_training_stop) - datetime.fromtimestamp(distil_data_program_start)).total_seconds()\n",
    "\n",
    "distil_training_cpu = float(distil_power_gadget['System Time'].iloc[-6][34:])\n",
    "distil_training_dram = float(distil_power_gadget['System Time'].iloc[-3][36:])\n",
    "\n",
    "# Watts during training 70 steps \n",
    "idle_GPU = distil_istat[distil_training_start >= distil_istat['time']]['watt']\n",
    "distil_istat = distil_istat[(distil_training_start <= distil_istat['time']) & (distil_training_stop >= distil_istat['time'])]\n",
    "distil_istat.tail()\n",
    "\n",
    "# GPU idle energy \n",
    "GPU_idle_joules =  training_time * idle_GPU.mean()\n",
    "test_start "
   ]
  },
  {
   "cell_type": "code",
   "execution_count": 7,
   "metadata": {},
   "outputs": [
    {
     "name": "stdout",
     "output_type": "stream",
     "text": [
      "150.62153160453815 993.3531976580232\n"
     ]
    }
   ],
   "source": [
    "\n",
    "# Separate setup time and training time and add training time cpu and dram when calculating the energy for one step. \n",
    "# There is an overlap between training start and setup stop. Setup stop seemes to be 113 ~rows+ = 5s from training start location.  \n",
    "\n",
    "timesHelper = lambda x:(pd.to_datetime(distil_power_gadget['System Time'].iloc[:-12][x], format=\"%H:%M:%S:%f\") + timedelta(days=44672)).strftime('%s')\n",
    "getRowOfUnixTime = lambda x: [timesHelper(i) for i in range(distil_power_gadget.shape[0]-12)].index(str(x))\n",
    "getDateTime = lambda x, y=0: distil_power_gadget['System Time'].iloc[:-12][x + y]\n",
    "getDataFromRow = lambda col, x: distil_power_gadget[col].iloc[:-12][x]\n",
    "\n",
    "# PRE POST trainign energy  \n",
    "setup_stop_row = getRowOfUnixTime(distil_training_start)\n",
    "pre = getDataFromRow('Cumulative IA Energy_0(Joules)', setup_stop_row)\n",
    "pre = pre + getDataFromRow('Cumulative DRAM Energy_0(Joules)', setup_stop_row) \n",
    "post = distil_training_cpu + distil_training_dram - pre \n",
    "\n",
    "# CPU and DRAM energy \n",
    "distil_setup_cpu_dram_joules_2 = pre - (int(timesHelper(setup_stop_row)) - int(timesHelper(0)))*(avr_idle_CPU+avr_idle_DRAM)\n",
    "distil_training_cpu_dram_joules_2 = post - (int(timesHelper(distil_power_gadget.shape[0]-13)) - int(timesHelper(setup_stop_row)))*(avr_idle_CPU+avr_idle_DRAM)\n",
    "print(distil_setup_cpu_dram_joules_2, distil_training_cpu_dram_joules_2)"
   ]
  },
  {
   "cell_type": "code",
   "execution_count": 8,
   "metadata": {},
   "outputs": [
    {
     "data": {
      "image/png": "[encoded data removed]",
      "text/plain": [
       "<Figure size 432x288 with 1 Axes>"
      ]
     },
     "metadata": {
      "needs_background": "light"
     },
     "output_type": "display_data"
    },
    {
     "name": "stdout",
     "output_type": "stream",
     "text": [
      "GPU joules per step is: 140.59003874149127\n"
     ]
    },
    {
     "data": {
      "text/plain": [
       "800"
      ]
     },
     "execution_count": 8,
     "metadata": {},
     "output_type": "execute_result"
    }
   ],
   "source": [
    "# Plot watt usage and calculate total energy of system\n",
    "plt.plot(distil_istat['time'], distil_istat['watt'])\n",
    "plt.show()\n",
    "test2 = (integrate.trapz(distil_istat.watt, x=distil_istat.time) - GPU_idle_joules + distil_training_cpu_dram_joules_2)/70\n",
    "GPU_Energy_test2 = (integrate.trapz(distil_istat.watt, x=distil_istat.time) - GPU_idle_joules)/70\n",
    "print(\"GPU joules per step is:\", test2)\n",
    "setup_stop_row"
   ]
  },
  {
   "cell_type": "code",
   "execution_count": 9,
   "metadata": {},
   "outputs": [],
   "source": [
    "# Distil training 3 60 steps\n",
    "distil_istat = pd.read_csv('../data/distil_GPU_3.csv', low_memory=False)\n",
    "distil_power_gadget = pd.read_csv('../data/PwrData_2022-4-23_13-42-20-distil_training_3.csv', low_memory=False)\n",
    "\n",
    "test_start = int((pd.to_datetime(distil_power_gadget['System Time'][0][:-4], format=\"%H:%M:%S\") + timedelta(days=44672)).strftime('%s'))\n",
    "test_stop = int((pd.to_datetime(distil_power_gadget['System Time'].iloc[-12][:-4], format=\"%H:%M:%S\") + timedelta(days=44672)).strftime('%s'))\n",
    "\n",
    "# Manual convertion of start and end time\n",
    "distil_data_program_start = test_start\n",
    "distil_training_start = 1650714167\n",
    "distil_training_stop = test_stop\n",
    "\n",
    "# total training time in seconds\n",
    "training_time = (datetime.fromtimestamp(distil_training_stop) - datetime.fromtimestamp(distil_data_program_start)).total_seconds()\n",
    "\n",
    "distil_training_cpu = float(distil_power_gadget['System Time'].iloc[-6][34:])\n",
    "distil_training_dram = float(distil_power_gadget['System Time'].iloc[-3][36:])\n",
    "\n",
    "# Watts during training 60 steps \n",
    "idle_GPU = distil_istat[distil_training_start >= distil_istat['time']]['watt']\n",
    "distil_istat = distil_istat[(distil_training_start <= distil_istat['time']) & (distil_training_stop >= distil_istat['time'])]\n",
    "distil_istat.tail()\n",
    "\n",
    "# GPU idle energy \n",
    "GPU_idle_joules =  training_time * idle_GPU.mean()\n"
   ]
  },
  {
   "cell_type": "code",
   "execution_count": 10,
   "metadata": {},
   "outputs": [
    {
     "name": "stdout",
     "output_type": "stream",
     "text": [
      "175.25135008103734 895.5808782917345\n"
     ]
    }
   ],
   "source": [
    "\n",
    "# Separate setup time and training time and add training time cpu and dram when calculating the energy for one step. \n",
    "# There is an overlap between training start and setup stop. Setup stop seemes to be 113 ~rows+ = 5s from training start location.  \n",
    "\n",
    "timesHelper = lambda x:(pd.to_datetime(distil_power_gadget['System Time'].iloc[:-12][x], format=\"%H:%M:%S:%f\") + timedelta(days=44672)).strftime('%s')\n",
    "getRowOfUnixTime = lambda x: [timesHelper(i) for i in range(distil_power_gadget.shape[0]-12)].index(str(x))\n",
    "getDateTime = lambda x, y=0: distil_power_gadget['System Time'].iloc[:-12][x + y]\n",
    "getDataFromRow = lambda col, x: distil_power_gadget[col].iloc[:-12][x]\n",
    "\n",
    "# PRE POST trainign energy  \n",
    "setup_stop_row = getRowOfUnixTime(distil_training_start)\n",
    "pre = getDataFromRow('Cumulative IA Energy_0(Joules)', setup_stop_row)\n",
    "pre = pre + getDataFromRow('Cumulative DRAM Energy_0(Joules)', setup_stop_row) \n",
    "post = distil_training_cpu + distil_training_dram - pre \n",
    "\n",
    "# CPU and DRAM energy \n",
    "distil_setup_cpu_dram_joules_3 = pre - (int(timesHelper(setup_stop_row)) - int(timesHelper(0)))*(avr_idle_CPU+avr_idle_DRAM)\n",
    "distil_training_cpu_dram_joules_3 = post - (int(timesHelper(distil_power_gadget.shape[0]-13)) - int(timesHelper(setup_stop_row)))*(avr_idle_CPU+avr_idle_DRAM)\n",
    "print(distil_setup_cpu_dram_joules_3, distil_training_cpu_dram_joules_3)"
   ]
  },
  {
   "cell_type": "code",
   "execution_count": 11,
   "metadata": {},
   "outputs": [
    {
     "data": {
      "image/png": "[encoded data removed]",
      "text/plain": [
       "<Figure size 432x288 with 1 Axes>"
      ]
     },
     "metadata": {
      "needs_background": "light"
     },
     "output_type": "display_data"
    },
    {
     "name": "stdout",
     "output_type": "stream",
     "text": [
      "GPU joules per step is: 143.04028886754915\n"
     ]
    }
   ],
   "source": [
    "# Plot watt usage and calculate total energy of system\n",
    "plt.plot(distil_istat['time'], distil_istat['watt'])\n",
    "plt.show()\n",
    "itgrt = integrate.trapz(distil_istat.watt, x=distil_istat.time)\n",
    "test3 = (itgrt - GPU_idle_joules + distil_training_cpu_dram_joules_3)/60\n",
    "GPU_Energy_test3 = (itgrt - GPU_idle_joules)/60\n",
    "print(\"GPU joules per step is:\", test3)"
   ]
  },
  {
   "cell_type": "code",
   "execution_count": 15,
   "metadata": {},
   "outputs": [
    {
     "name": "stdout",
     "output_type": "stream",
     "text": [
      "Total energy used by training: 5729449.004424673 . Energy per step: 141.46320918414563 . Sample deviation: 1.1173025804650292\n",
      "CPU and DRAM energy consumption procentage of total energy consumption 8.780000000000001%\n",
      "CPU and DRAM step and total consumption: 12.416072284453714 503039.9599871501 . GPU energy step and  consumption: 129.04713689969194 5226409.044437523\n"
     ]
    }
   ],
   "source": [
    "# Total consumption\n",
    "steps = 13500\n",
    "epochs = 3 \n",
    "training_mean = (test1+test2+test3)/3\n",
    "setup_mean = ((distil_setup_cpu_dram_joules_1+distil_setup_cpu_dram_joules_2+distil_setup_cpu_dram_joules_3)/3)\n",
    "training_energy = steps*epochs*training_mean\n",
    "cpu_dram_energy_step = ((distil_training_cpu_dram_joules_1/60+distil_training_cpu_dram_joules_2/70+distil_training_cpu_dram_joules_3/60)/3) \n",
    "cpu_dram_energy = steps*epochs*cpu_dram_energy_step + setup_mean\n",
    "gpu_energy_step = ((GPU_Energy_test1 + GPU_Energy_test2 + GPU_Energy_test3)/3)\n",
    "gpu_energy =steps*epochs*gpu_energy_step\n",
    "\n",
    "# Sample standard deviation\n",
    "summ = (test1 - training_mean)**2 + (test2 - training_mean)**2 + (test3 - training_mean)**2\n",
    "standardDeviation = math.sqrt(summ/3)\n",
    "\n",
    "# CPU and DRAM procentage of total energy consumption. \n",
    "print(\"Total energy used by training:\", setup_mean+training_energy, \". Energy per step:\", training_mean, \". Sample deviation:\", standardDeviation)\n",
    "print(\"CPU and DRAM energy consumption procentage of total energy consumption\" , str(round(cpu_dram_energy / (training_energy + setup_mean), 5)*100) + \"%\")\n",
    "print(\"CPU and DRAM step and total consumption:\", cpu_dram_energy_step, cpu_dram_energy, \". GPU energy step and  consumption:\", gpu_energy_step, gpu_energy)\n",
    "\n"
   ]
  },
  {
   "cell_type": "markdown",
   "metadata": {},
   "source": [
    "### BERT\n",
    "training 3 is made with base tokenizer. We cant conclude that fast tokenizer is better when training, but it should be. We will only use Fast tokenizer going forward. OBS, distil is only trained with fast.\n",
    "\n",
    "We also asume that tokenizer is downloaded."
   ]
  },
  {
   "cell_type": "code",
   "execution_count": 16,
   "metadata": {},
   "outputs": [
    {
     "data": {
      "text/plain": [
       "4.7803315962514565"
      ]
     },
     "execution_count": 16,
     "metadata": {},
     "output_type": "execute_result"
    }
   ],
   "source": [
    "bert_istat = pd.read_csv('../data/bert_GPU_1.csv', low_memory=False)\n",
    "bert_power_gadget = pd.read_csv('../data/PwrData_2022-4-23_20-57-16_bert_training_1.csv', low_memory=False)\n",
    "\n",
    "test_start = int((pd.to_datetime(bert_power_gadget['System Time'][0][:-4], format=\"%H:%M:%S\") + timedelta(days=44672)).strftime('%s'))\n",
    "test_stop = int((pd.to_datetime(bert_power_gadget['System Time'].iloc[-12][:-4], format=\"%H:%M:%S\") + timedelta(days=44672)).strftime('%s'))\n",
    "\n",
    "# Manual convertion of start and end time\n",
    "bert_data_program_start = test_start\n",
    "bert_training_start = 1650740279\n",
    "bert_training_stop = test_stop\n",
    "\n",
    "# total training time in seconds\n",
    "training_time = (datetime.fromtimestamp(bert_training_stop) - datetime.fromtimestamp(bert_data_program_start)).total_seconds()\n",
    "\n",
    "bert_training_cpu = float(bert_power_gadget['System Time'].iloc[-6][34:])\n",
    "bert_training_dram = float(bert_power_gadget['System Time'].iloc[-3][36:])\n",
    "\n",
    "# CPU and DRAM energy \n",
    "bert_training_cpu_dram_joules_1 = bert_training_cpu + bert_training_dram - training_time * (avr_idle_CPU + avr_idle_DRAM)\n",
    "\n",
    "# Watts during training 60 steps \n",
    "idle_GPU = bert_istat[bert_training_start >= bert_istat['time']]['watt']\n",
    "bert_istat = bert_istat[(bert_training_start <= bert_istat['time']) & (bert_training_stop >= bert_istat['time'])]\n",
    "bert_istat.tail()\n",
    "\n",
    "# GPU idle energy \n",
    "GPU_idle_joules =  training_time * idle_GPU.mean()\n",
    "idle_GPU.mean()\n",
    "# idle_GPU.std(ddof=0)\n"
   ]
  },
  {
   "cell_type": "code",
   "execution_count": 17,
   "metadata": {},
   "outputs": [
    {
     "name": "stdout",
     "output_type": "stream",
     "text": [
      "416.39557050243116 1563.4170843371164\n"
     ]
    }
   ],
   "source": [
    "\n",
    "# Separate setup time and training time and add training time cpu and dram when calculating the energy for one step. \n",
    "# There is an overlap between training start and setup stop. Setup stop seemes to be 113 ~rows+ = 5s from training start location.  \n",
    "\n",
    "timesHelper = lambda x:(pd.to_datetime(bert_power_gadget['System Time'].iloc[:-12][x], format=\"%H:%M:%S:%f\") + timedelta(days=44672)).strftime('%s')\n",
    "getRowOfUnixTime = lambda x: [timesHelper(i) for i in range(bert_power_gadget.shape[0]-12)].index(str(x))\n",
    "getDateTime = lambda x, y=0: bert_power_gadget['System Time'].iloc[:-12][x + y]\n",
    "getDataFromRow = lambda col, x: bert_power_gadget[col].iloc[:-12][x]\n",
    "\n",
    "# PRE POST trainign energy  \n",
    "setup_stop_row = getRowOfUnixTime(bert_training_start) + 20\n",
    "pre = getDataFromRow('Cumulative IA Energy_0(Joules)', setup_stop_row)\n",
    "pre = pre + getDataFromRow('Cumulative DRAM Energy_0(Joules)', setup_stop_row) \n",
    "post = bert_training_cpu + bert_training_dram - pre \n",
    "\n",
    "# CPU and DRAM energy \n",
    "bert_setup_cpu_dram_joules_1 = pre - (int(timesHelper(setup_stop_row)) - int(timesHelper(0)))*(avr_idle_CPU+avr_idle_DRAM)\n",
    "bert_training_cpu_dram_joules_1 = post - (int(timesHelper(bert_power_gadget.shape[0]-13)) - int(timesHelper(setup_stop_row)))*(avr_idle_CPU+avr_idle_DRAM)\n",
    "print(bert_setup_cpu_dram_joules_1, bert_training_cpu_dram_joules_1)"
   ]
  },
  {
   "cell_type": "code",
   "execution_count": 18,
   "metadata": {},
   "outputs": [
    {
     "data": {
      "text/plain": [
       "850"
      ]
     },
     "execution_count": 18,
     "metadata": {},
     "output_type": "execute_result"
    }
   ],
   "source": [
    "setup_stop_row"
   ]
  },
  {
   "cell_type": "code",
   "execution_count": 19,
   "metadata": {},
   "outputs": [
    {
     "data": {
      "image/png": "[encoded data removed]",
      "text/plain": [
       "<Figure size 432x288 with 1 Axes>"
      ]
     },
     "metadata": {
      "needs_background": "light"
     },
     "output_type": "display_data"
    },
    {
     "name": "stdout",
     "output_type": "stream",
     "text": [
      "GPU joules per step is: 304.8867700496808\n"
     ]
    }
   ],
   "source": [
    "plt.plot(bert_istat['time'], bert_istat['watt'])\n",
    "plt.show()\n",
    "itgrt = integrate.trapz(bert_istat.watt, x=bert_istat.time)\n",
    "test1 = (itgrt - GPU_idle_joules + bert_training_cpu_dram_joules_1)/60\n",
    "GPU_Energy_test1 = (itgrt - GPU_idle_joules)/60\n",
    "print(\"GPU joules per step is:\", test1)"
   ]
  },
  {
   "cell_type": "code",
   "execution_count": 20,
   "metadata": {},
   "outputs": [],
   "source": [
    "# Distil training 2 70 steps\n",
    "bert_istat = pd.read_csv('../data/bert_GPU_2.csv', low_memory=False)\n",
    "\n",
    "bert_power_gadget = pd.read_csv('../data/PwrData_2022-4-23_21-23-45_bert_training_2.csv', low_memory=False)\n",
    "\n",
    "test_start = int((pd.to_datetime(bert_power_gadget['System Time'][0][:-4], format=\"%H:%M:%S\") + timedelta(days=44672)).strftime('%s'))\n",
    "test_stop = int((pd.to_datetime(bert_power_gadget['System Time'].iloc[-12][:-4], format=\"%H:%M:%S\") + timedelta(days=44672)).strftime('%s'))\n",
    "\n",
    "# Manual convertion of start and end time\n",
    "bert_data_program_start = test_start\n",
    "bert_training_start = 1650741851\n",
    "bert_training_stop = test_stop\n",
    "\n",
    "# total training time in seconds\n",
    "training_time = (datetime.fromtimestamp(bert_training_stop) - datetime.fromtimestamp(bert_data_program_start)).total_seconds()\n",
    "\n",
    "bert_training_cpu = float(bert_power_gadget['System Time'].iloc[-6][34:])\n",
    "bert_training_dram = float(bert_power_gadget['System Time'].iloc[-3][36:])\n",
    "\n",
    "# CPU and DRAM energy \n",
    "bert_training_cpu_dram_joules_2 = bert_training_cpu + bert_training_dram - training_time * (avr_idle_CPU + avr_idle_DRAM)\n",
    "\n",
    "# Watts during training 60 steps \n",
    "idle_GPU = bert_istat[bert_training_start >= bert_istat['time']]['watt']\n",
    "bert_istat = bert_istat[(bert_training_start <= bert_istat['time']) & (bert_training_stop >= bert_istat['time'])]\n",
    "bert_istat.tail()\n",
    "\n",
    "# GPU idle energy \n",
    "GPU_idle_joules =  training_time * idle_GPU.mean()"
   ]
  },
  {
   "cell_type": "code",
   "execution_count": 21,
   "metadata": {},
   "outputs": [
    {
     "name": "stdout",
     "output_type": "stream",
     "text": [
      "287.5673500810373 1601.2556724862247\n"
     ]
    }
   ],
   "source": [
    "\n",
    "# Separate setup time and training time and add training time cpu and dram when calculating the energy for one step. \n",
    "# There is an overlap between training start and setup stop. Setup stop seemes to be 113 ~rows+ = 5s from training start location.  \n",
    "\n",
    "timesHelper = lambda x:(pd.to_datetime(bert_power_gadget['System Time'].iloc[:-12][x], format=\"%H:%M:%S:%f\") + timedelta(days=44672)).strftime('%s')\n",
    "getRowOfUnixTime = lambda x: [timesHelper(i) for i in range(bert_power_gadget.shape[0]-12)].index(str(x))\n",
    "getDateTime = lambda x, y=0: bert_power_gadget['System Time'].iloc[:-12][x + y]\n",
    "getDataFromRow = lambda col, x: bert_power_gadget[col].iloc[:-12][x]\n",
    "\n",
    "# PRE POST trainign energy  \n",
    "setup_stop_row = getRowOfUnixTime(bert_training_start) + 20\n",
    "pre = getDataFromRow('Cumulative IA Energy_0(Joules)', setup_stop_row)\n",
    "pre = pre + getDataFromRow('Cumulative DRAM Energy_0(Joules)', setup_stop_row) \n",
    "post = bert_training_cpu + bert_training_dram - pre \n",
    "\n",
    "# CPU and DRAM energy \n",
    "bert_setup_cpu_dram_joules_2 = pre - (int(timesHelper(setup_stop_row)) - int(timesHelper(0)))*(avr_idle_CPU+avr_idle_DRAM)\n",
    "bert_training_cpu_dram_joules_2 = post - (int(timesHelper(bert_power_gadget.shape[0]-13)) - int(timesHelper(setup_stop_row)))*(avr_idle_CPU+avr_idle_DRAM)\n",
    "print(bert_setup_cpu_dram_joules_2, bert_training_cpu_dram_joules_2)"
   ]
  },
  {
   "cell_type": "code",
   "execution_count": 22,
   "metadata": {},
   "outputs": [
    {
     "data": {
      "image/png": "[encoded data removed]",
      "text/plain": [
       "<Figure size 432x288 with 1 Axes>"
      ]
     },
     "metadata": {
      "needs_background": "light"
     },
     "output_type": "display_data"
    },
    {
     "name": "stdout",
     "output_type": "stream",
     "text": [
      "GPU joules per step is: 306.0656361663841\n"
     ]
    }
   ],
   "source": [
    "# Plot watt usage and calculate total energy of system\n",
    "plt.plot(bert_istat['time'], bert_istat['watt'])\n",
    "plt.show()\n",
    "itgrt = integrate.trapz(bert_istat.watt, x=bert_istat.time)\n",
    "test2 = (itgrt - GPU_idle_joules + bert_training_cpu_dram_joules_2)/64\n",
    "GPU_Energy_test2 = (itgrt - GPU_idle_joules)/64\n",
    "print(\"GPU joules per step is:\", test2)"
   ]
  },
  {
   "cell_type": "code",
   "execution_count": 23,
   "metadata": {},
   "outputs": [],
   "source": [
    "# bert training 3 60 steps\n",
    "bert_istat = pd.read_csv('../data/bert_GPU_base.csv', low_memory=False)\n",
    "bert_power_gadget = pd.read_csv('../data/PwrData_2022-4-23_21-57-15_bert_training_basetok.csv', low_memory=False)\n",
    "\n",
    "test_start = int((pd.to_datetime(bert_power_gadget['System Time'][0][:-4], format=\"%H:%M:%S\") + timedelta(days=44672)).strftime('%s'))\n",
    "test_stop = int((pd.to_datetime(bert_power_gadget['System Time'].iloc[-12][:-4], format=\"%H:%M:%S\") + timedelta(days=44672)).strftime('%s'))\n",
    "\n",
    "# Manual convertion of start and end time\n",
    "bert_data_program_start = test_start\n",
    "bert_training_start = 1650743861\n",
    "bert_training_stop = test_stop\n",
    "\n",
    "# total training time in seconds\n",
    "training_time = (datetime.fromtimestamp(bert_training_stop) - datetime.fromtimestamp(bert_data_program_start)).total_seconds()\n",
    "\n",
    "bert_training_cpu = float(bert_power_gadget['System Time'].iloc[-6][34:])\n",
    "bert_training_dram = float(bert_power_gadget['System Time'].iloc[-3][36:])\n",
    "\n",
    "# CPU and DRAM energy \n",
    "bert_training_cpu_dram_joules_3 = bert_training_cpu + bert_training_dram - training_time * (avr_idle_CPU + avr_idle_DRAM)\n",
    "\n",
    "# Watts during training 60 steps \n",
    "idle_GPU = bert_istat[bert_training_start >= bert_istat['time']]['watt']\n",
    "bert_istat = bert_istat[(bert_training_start <= bert_istat['time']) & (bert_training_stop >= bert_istat['time'])]\n",
    "bert_istat.tail()\n",
    "\n",
    "# GPU idle energy \n",
    "GPU_idle_joules =  training_time * idle_GPU.mean()"
   ]
  },
  {
   "cell_type": "code",
   "execution_count": 24,
   "metadata": {},
   "outputs": [
    {
     "name": "stdout",
     "output_type": "stream",
     "text": [
      "311.96935008103725 1526.3470244051873\n"
     ]
    }
   ],
   "source": [
    "\n",
    "# Separate setup time and training time and add training time cpu and dram when calculating the energy for one step. \n",
    "# There is an overlap between training start and setup stop. Setup stop seemes to be 113 ~rows+ = 5s from training start location.  \n",
    "\n",
    "timesHelper = lambda x:(pd.to_datetime(bert_power_gadget['System Time'].iloc[:-12][x], format=\"%H:%M:%S:%f\") + timedelta(days=44672)).strftime('%s')\n",
    "getRowOfUnixTime = lambda x: [timesHelper(i) for i in range(bert_power_gadget.shape[0]-12)].index(str(x))\n",
    "getDateTime = lambda x, y=0: bert_power_gadget['System Time'].iloc[:-12][x + y]\n",
    "getDataFromRow = lambda col, x: bert_power_gadget[col].iloc[:-12][x]\n",
    "\n",
    "# PRE POST trainign energy  \n",
    "setup_stop_row = getRowOfUnixTime(bert_training_start) + 20\n",
    "pre = getDataFromRow('Cumulative IA Energy_0(Joules)', setup_stop_row)\n",
    "pre = pre + getDataFromRow('Cumulative DRAM Energy_0(Joules)', setup_stop_row) \n",
    "post = bert_training_cpu + bert_training_dram - pre \n",
    "\n",
    "# CPU and DRAM energy \n",
    "bert_setup_cpu_dram_joules_3 = pre - (int(timesHelper(setup_stop_row)) - int(timesHelper(0)))*(avr_idle_CPU+avr_idle_DRAM)\n",
    "bert_training_cpu_dram_joules_3 = post - (int(timesHelper(bert_power_gadget.shape[0]-13)) - int(timesHelper(setup_stop_row)))*(avr_idle_CPU+avr_idle_DRAM)\n",
    "print(bert_setup_cpu_dram_joules_3, bert_training_cpu_dram_joules_3)"
   ]
  },
  {
   "cell_type": "code",
   "execution_count": 25,
   "metadata": {},
   "outputs": [
    {
     "data": {
      "image/png": "[encoded data removed]",
      "text/plain": [
       "<Figure size 432x288 with 1 Axes>"
      ]
     },
     "metadata": {
      "needs_background": "light"
     },
     "output_type": "display_data"
    },
    {
     "name": "stdout",
     "output_type": "stream",
     "text": [
      "GPU joules per step is: 309.52054241439015\n"
     ]
    }
   ],
   "source": [
    "# Plot watt usage and calculate total energy of system\n",
    "plt.plot(bert_istat['time'], bert_istat['watt'])\n",
    "plt.show()\n",
    "itgrt = integrate.trapz(bert_istat.watt, x=bert_istat.time)\n",
    "test3 = (itgrt - GPU_idle_joules + bert_training_cpu_dram_joules_3)/60\n",
    "GPU_Energy_test3 = (itgrt - GPU_idle_joules)/60\n",
    "print(\"GPU joules per step is:\", test3)"
   ]
  },
  {
   "cell_type": "code",
   "execution_count": 26,
   "metadata": {},
   "outputs": [
    {
     "name": "stdout",
     "output_type": "stream",
     "text": [
      "Total energy used by training: 12426723.450601365 . Energy per step: 306.82431621015166 . Sample deviation: 1.966326208710783\n",
      "CPU and DRAM energy consumption procentage of total energy consumption 8.315%\n",
      "CPU and DRAM step and total consumption: 25.505229453878552 1033300.4369723029 . GPU energy step and  consumption: 281.31908675627307 11393423.013629058\n"
     ]
    }
   ],
   "source": [
    "# Total consumption\n",
    "steps = 13500\n",
    "epochs = 3 \n",
    "training_mean = (test1+test2+test3)/3\n",
    "setup_mean = ((bert_setup_cpu_dram_joules_1+bert_setup_cpu_dram_joules_2+bert_setup_cpu_dram_joules_3)/3)\n",
    "training_energy = steps*epochs*training_mean\n",
    "cpu_dram_energy_step = ((bert_training_cpu_dram_joules_1/60+bert_training_cpu_dram_joules_2/64+bert_training_cpu_dram_joules_3/60)/3)\n",
    "cpu_dram_energy = steps*epochs*cpu_dram_energy_step + setup_mean\n",
    "gpu_energy_step = ((GPU_Energy_test1 + GPU_Energy_test2 + GPU_Energy_test3)/3)\n",
    "gpu_energy =steps*epochs*gpu_energy_step\n",
    "\n",
    "# Sample standard deviation\n",
    "summ = (test1 - training_mean)**2 + (test2 - training_mean)**2 + (test3 - training_mean)**2\n",
    "standardDeviation = math.sqrt(summ/3)\n",
    "\n",
    "# CPU and DRAM procentage of total energy consumption. \n",
    "print(\"Total energy used by training:\", setup_mean+training_energy, \". Energy per step:\", training_mean, \". Sample deviation:\", standardDeviation)\n",
    "print(\"CPU and DRAM energy consumption procentage of total energy consumption\" , str(round(cpu_dram_energy / (training_energy + setup_mean), 5)*100) + \"%\")\n",
    "print(\"CPU and DRAM step and total consumption:\", cpu_dram_energy_step, cpu_dram_energy, \". GPU energy step and  consumption:\", gpu_energy_step, gpu_energy)\n",
    "\n"
   ]
  },
  {
   "cell_type": "markdown",
   "metadata": {},
   "source": [
    "### Albert"
   ]
  },
  {
   "cell_type": "code",
   "execution_count": 27,
   "metadata": {},
   "outputs": [],
   "source": [
    "albert_istat = pd.read_csv('../data/albert_GPU_1.csv', low_memory=False)\n",
    "albert_power_gadget = pd.read_csv('../data/PwrData_2022-4-23_22-19-41_albert_training_1.csv', low_memory=False)\n",
    "\n",
    "test_start = int((pd.to_datetime(albert_power_gadget['System Time'][0][:-4], format=\"%H:%M:%S\") + timedelta(days=44672)).strftime('%s'))\n",
    "test_stop = int((pd.to_datetime(albert_power_gadget['System Time'].iloc[-12][:-4], format=\"%H:%M:%S\") + timedelta(days=44672)).strftime('%s'))\n",
    "\n",
    "# Manual convertion of start and end time\n",
    "albert_data_program_start = test_start\n",
    "albert_training_start = 1650745211\n",
    "albert_training_stop = test_stop\n",
    "\n",
    "# total training time in seconds\n",
    "training_time = (datetime.fromtimestamp(albert_training_stop) - datetime.fromtimestamp(albert_data_program_start)).total_seconds()\n",
    "\n",
    "albert_training_cpu = float(albert_power_gadget['System Time'].iloc[-6][34:])\n",
    "albert_training_dram = float(albert_power_gadget['System Time'].iloc[-3][36:])\n",
    "\n",
    "# CPU and DRAM energy \n",
    "albert_training_cpu_dram_joules_1 = albert_training_cpu + albert_training_dram - training_time * (avr_idle_CPU + avr_idle_DRAM)\n",
    "\n",
    "# Watts during training 60 steps \n",
    "idle_GPU = albert_istat[albert_training_start >= albert_istat['time']]['watt']\n",
    "albert_istat = albert_istat[(albert_training_start <= albert_istat['time']) & (albert_training_stop >= albert_istat['time'])]\n",
    "albert_istat.tail()\n",
    "\n",
    "# GPU idle energy \n",
    "GPU_idle_joules =  training_time * idle_GPU.mean()"
   ]
  },
  {
   "cell_type": "code",
   "execution_count": 28,
   "metadata": {},
   "outputs": [
    {
     "name": "stdout",
     "output_type": "stream",
     "text": [
      "429.4114149108591 1148.2211015024318\n"
     ]
    }
   ],
   "source": [
    "\n",
    "# Separate setup time and training time and add training time cpu and dram when calculating the energy for one step. \n",
    "# There is an overlap between training start and setup stop. Setup stop seemes to be 113 ~rows+ = 5s from training start location.  \n",
    "\n",
    "timesHelper = lambda x:(pd.to_datetime(albert_power_gadget['System Time'].iloc[:-12][x], format=\"%H:%M:%S:%f\") + timedelta(days=44672)).strftime('%s')\n",
    "getRowOfUnixTime = lambda x: [timesHelper(i) for i in range(albert_power_gadget.shape[0]-12)].index(str(x))\n",
    "getDateTime = lambda x, y=0: albert_power_gadget['System Time'].iloc[:-12][x + y]\n",
    "getDataFromRow = lambda col, x: albert_power_gadget[col].iloc[:-12][x]\n",
    "\n",
    "# PRE POST trainign energy  \n",
    "setup_stop_row = getRowOfUnixTime(albert_training_start) + 47\n",
    "pre = getDataFromRow('Cumulative IA Energy_0(Joules)', setup_stop_row)\n",
    "pre = pre + getDataFromRow('Cumulative DRAM Energy_0(Joules)', setup_stop_row) \n",
    "post = albert_training_cpu + albert_training_dram - pre \n",
    "\n",
    "# CPU and DRAM energy \n",
    "albert_setup_cpu_dram_joules_1 = pre - (int(timesHelper(setup_stop_row)) - int(timesHelper(0)))*(avr_idle_CPU+avr_idle_DRAM)\n",
    "albert_training_cpu_dram_joules_1 = post - (int(timesHelper(albert_power_gadget.shape[0]-13)) - int(timesHelper(setup_stop_row)))*(avr_idle_CPU+avr_idle_DRAM)\n",
    "print(albert_setup_cpu_dram_joules_1, albert_training_cpu_dram_joules_1)"
   ]
  },
  {
   "cell_type": "code",
   "execution_count": 29,
   "metadata": {},
   "outputs": [
    {
     "data": {
      "image/png": "[encoded data removed]",
      "text/plain": [
       "<Figure size 432x288 with 1 Axes>"
      ]
     },
     "metadata": {
      "needs_background": "light"
     },
     "output_type": "display_data"
    },
    {
     "name": "stdout",
     "output_type": "stream",
     "text": [
      "GPU joules per step is: 266.2122367512228\n"
     ]
    }
   ],
   "source": [
    "# Plot watt usage and calculate total energy of system\n",
    "plt.plot(albert_istat['time'], albert_istat['watt'])\n",
    "plt.show()\n",
    "itgrt = integrate.trapz(albert_istat.watt, x=albert_istat.time)\n",
    "test1 = (itgrt - GPU_idle_joules + albert_training_cpu_dram_joules_1)/60\n",
    "GPU_Energy_test1 = (itgrt - GPU_idle_joules)/60\n",
    "print(\"GPU joules per step is:\", test1)"
   ]
  },
  {
   "cell_type": "code",
   "execution_count": 30,
   "metadata": {},
   "outputs": [],
   "source": [
    "albert_istat = pd.read_csv('../data/albert_GPU_2.csv', low_memory=False)\n",
    "albert_power_gadget = pd.read_csv('../data/PwrData_2022-4-23_22-34-14_albert_training_2.csv', low_memory=False)\n",
    "\n",
    "test_start = int((pd.to_datetime(albert_power_gadget['System Time'][0][:-4], format=\"%H:%M:%S\") + timedelta(days=44672)).strftime('%s'))\n",
    "test_stop = int((pd.to_datetime(albert_power_gadget['System Time'].iloc[-12][:-4], format=\"%H:%M:%S\") + timedelta(days=44672)).strftime('%s'))\n",
    "\n",
    "# Manual convertion of start and end time\n",
    "albert_data_program_start = test_start\n",
    "albert_training_start = 1650746081\n",
    "albert_training_stop = test_stop\n",
    "\n",
    "# total training time in seconds\n",
    "training_time = (datetime.fromtimestamp(albert_training_stop) - datetime.fromtimestamp(albert_data_program_start)).total_seconds()\n",
    "\n",
    "albert_training_cpu = float(albert_power_gadget['System Time'].iloc[-6][34:])\n",
    "albert_training_dram = float(albert_power_gadget['System Time'].iloc[-3][36:])\n",
    "\n",
    "# CPU and DRAM energy \n",
    "albert_training_cpu_dram_joules_2 = albert_training_cpu + albert_training_dram - training_time * (avr_idle_CPU + avr_idle_DRAM)\n",
    "\n",
    "# Watts during training 60 steps \n",
    "idle_GPU = albert_istat[albert_training_start >= albert_istat['time']]['watt']\n",
    "albert_istat = albert_istat[(albert_training_start <= albert_istat['time']) & (albert_training_stop >= albert_istat['time'])]\n",
    "albert_istat.tail()\n",
    "\n",
    "# GPU idle energy \n",
    "GPU_idle_joules =  training_time * idle_GPU.mean()"
   ]
  },
  {
   "cell_type": "code",
   "execution_count": 32,
   "metadata": {},
   "outputs": [
    {
     "name": "stdout",
     "output_type": "stream",
     "text": [
      "370.1754408427877 1177.0557626045388\n"
     ]
    }
   ],
   "source": [
    "\n",
    "# Separate setup time and training time and add training time cpu and dram when calculating the energy for one step. \n",
    "# There is an overlap between training start and setup stop. Setup stop seemes to be 113 ~rows+ = 5s from training start location.  \n",
    "\n",
    "timesHelper = lambda x:(pd.to_datetime(albert_power_gadget['System Time'].iloc[:-12][x], format=\"%H:%M:%S:%f\") + timedelta(days=44672)).strftime('%s')\n",
    "getRowOfUnixTime = lambda x: [timesHelper(i) for i in range(albert_power_gadget.shape[0]-12)].index(str(x))\n",
    "getDateTime = lambda x, y=0: albert_power_gadget['System Time'].iloc[:-12][x + y]\n",
    "getDataFromRow = lambda col, x: albert_power_gadget[col].iloc[:-12][x]\n",
    "\n",
    "# PRE POST trainign energy  \n",
    "setup_stop_row = getRowOfUnixTime(albert_training_start) + 138\n",
    "pre = getDataFromRow('Cumulative IA Energy_0(Joules)', setup_stop_row)\n",
    "pre = pre + getDataFromRow('Cumulative DRAM Energy_0(Joules)', setup_stop_row) \n",
    "post = albert_training_cpu + albert_training_dram - pre \n",
    "\n",
    "# CPU and DRAM energy \n",
    "albert_setup_cpu_dram_joules_2 = pre - (int(timesHelper(setup_stop_row)) - int(timesHelper(0)))*(avr_idle_CPU+avr_idle_DRAM)\n",
    "albert_training_cpu_dram_joules_2 = post - (int(timesHelper(albert_power_gadget.shape[0]-13)) - int(timesHelper(setup_stop_row)))*(avr_idle_CPU+avr_idle_DRAM)\n",
    "print(albert_setup_cpu_dram_joules_2, albert_training_cpu_dram_joules_2)"
   ]
  },
  {
   "cell_type": "code",
   "execution_count": 33,
   "metadata": {},
   "outputs": [
    {
     "data": {
      "image/png": "[encoded data removed]",
      "text/plain": [
       "<Figure size 432x288 with 1 Axes>"
      ]
     },
     "metadata": {
      "needs_background": "light"
     },
     "output_type": "display_data"
    },
    {
     "name": "stdout",
     "output_type": "stream",
     "text": [
      "GPU joules per step is: 264.4026987609266\n"
     ]
    }
   ],
   "source": [
    "# Plot watt usage and calculate total energy of system\n",
    "plt.plot(albert_istat['time'], albert_istat['watt'])\n",
    "plt.show()\n",
    "itgrt = integrate.trapz(albert_istat.watt, x=albert_istat.time)\n",
    "test2 = (itgrt - GPU_idle_joules + albert_training_cpu_dram_joules_2)/60\n",
    "GPU_Energy_test2 = (itgrt - GPU_idle_joules)/60\n",
    "print(\"GPU joules per step is:\", test2)"
   ]
  },
  {
   "cell_type": "code",
   "execution_count": 34,
   "metadata": {},
   "outputs": [
    {
     "name": "stdout",
     "output_type": "stream",
     "text": [
      "Total energy used by training: 10745352.237548904 . Energy per step: 265.30746775607474 . Sample deviation: 0.9047689951480891\n",
      "CPU and DRAM energy consumption procentage of total energy consumption 7.3069999999999995%\n",
      "CPU and DRAM step and total consumption: 19.377307200891423 785180.7350639794 . GPU energy step and  consumption: 258.6472488171123 10475213.577093048\n"
     ]
    }
   ],
   "source": [
    "# Total consumption\n",
    "steps = 13500\n",
    "epochs = 3 \n",
    "training_mean = (test1+test2)/2\n",
    "setup_mean = ((albert_setup_cpu_dram_joules_1+albert_setup_cpu_dram_joules_2)/2)\n",
    "training_energy = steps*epochs*training_mean\n",
    "cpu_dram_energy_step = ((albert_training_cpu_dram_joules_1/60+albert_training_cpu_dram_joules_2/60)/2)\n",
    "cpu_dram_energy = steps*epochs*cpu_dram_energy_step + setup_mean\n",
    "gpu_energy_step = ((GPU_Energy_test1 + GPU_Energy_test2 + GPU_Energy_test3)/3)\n",
    "gpu_energy =steps*epochs*gpu_energy_step\n",
    "\n",
    "# Sample standard deviation\n",
    "summ = (test1 - training_mean)**2 + (test2 - training_mean)**2\n",
    "standardDeviation = math.sqrt(summ/2)\n",
    "\n",
    "# CPU and DRAM procentage of total energy consumption. \n",
    "print(\"Total energy used by training:\", setup_mean+training_energy, \". Energy per step:\", training_mean, \". Sample deviation:\", standardDeviation)\n",
    "print(\"CPU and DRAM energy consumption procentage of total energy consumption\" , str(round(cpu_dram_energy / (training_energy + setup_mean), 5)*100) + \"%\")\n",
    "print(\"CPU and DRAM step and total consumption:\", cpu_dram_energy_step, cpu_dram_energy, \". GPU energy step and  consumption:\", gpu_energy_step, gpu_energy)\n",
    "\n"
   ]
  },
  {
   "cell_type": "markdown",
   "metadata": {},
   "source": [
    "### RoBERTa"
   ]
  },
  {
   "cell_type": "code",
   "execution_count": 18,
   "metadata": {},
   "outputs": [
    {
     "name": "stdout",
     "output_type": "stream",
     "text": [
      "CPU energy usage is: 2327.864136\n",
      "DRAM energy usage is: 662.181885\n"
     ]
    },
    {
     "data": {
      "text/plain": [
       "4.910483968522813"
      ]
     },
     "execution_count": 18,
     "metadata": {},
     "output_type": "execute_result"
    }
   ],
   "source": [
    "roberta_istat = pd.read_csv('../data/roberta_GPU_1.csv', low_memory=False)\n",
    "roberta_power_gadget = pd.read_csv('../data/PwrData_2022-4-23_22-54-56_roberta_training_1.csv', low_memory=False)\n",
    "\n",
    "test_start = int((pd.to_datetime(roberta_power_gadget['System Time'][0][:-4], format=\"%H:%M:%S\") + timedelta(days=44672)).strftime('%s'))\n",
    "test_stop = int((pd.to_datetime(roberta_power_gadget['System Time'].iloc[-12][:-4], format=\"%H:%M:%S\") + timedelta(days=44672)).strftime('%s'))\n",
    "\n",
    "# Manual convertion of start and end time\n",
    "roberta_data_program_start = test_start\n",
    "roberta_training_start = 1650747335\n",
    "roberta_training_stop = test_stop\n",
    "\n",
    "# total training time in seconds\n",
    "time = (datetime.fromtimestamp(roberta_training_stop) - datetime.fromtimestamp(roberta_data_program_start)).total_seconds()\n",
    "training_time = (datetime.fromtimestamp(roberta_training_stop) - datetime.fromtimestamp(roberta_data_program_start)).total_seconds()\n",
    "\n",
    "roberta_training_cpu = float(roberta_power_gadget['System Time'].iloc[-6][34:])\n",
    "roberta_training_dram = float(roberta_power_gadget['System Time'].iloc[-3][36:])\n",
    "print(\"CPU energy usage is:\", roberta_training_cpu)\n",
    "print(\"DRAM energy usage is:\", roberta_training_dram)\n",
    "\n",
    "# CPU and DRAM energy \n",
    "roberta_training_cpu_dram_joules_1 = roberta_training_cpu + roberta_training_dram - time * (avr_idle_CPU + avr_idle_DRAM)\n",
    "\n",
    "# Watts during training 550 steps \n",
    "idle_GPU = roberta_istat[roberta_training_start >= roberta_istat['time']]['watt']\n",
    "roberta_istat = roberta_istat[(roberta_training_start <= roberta_istat['time']) & (roberta_training_stop >= roberta_istat['time'])]\n",
    "roberta_istat.tail()\n",
    "\n",
    "# GPU idle energy \n",
    "GPU_idle_joules =  training_time * idle_GPU.mean()\n",
    "idle_GPU.mean()"
   ]
  },
  {
   "cell_type": "code",
   "execution_count": 36,
   "metadata": {},
   "outputs": [
    {
     "name": "stdout",
     "output_type": "stream",
     "text": [
      "485.5475056726095 1562.622641745544\n"
     ]
    }
   ],
   "source": [
    "\n",
    "# Separate setup time and training time and add training time cpu and dram when calculating the energy for one step. \n",
    "# There is an overlap between training start and setup stop. Setup stop seemes to be 113 ~rows+ = 5s from training start location.  \n",
    "\n",
    "timesHelper = lambda x:(pd.to_datetime(roberta_power_gadget['System Time'].iloc[:-12][x], format=\"%H:%M:%S:%f\") + timedelta(days=44672)).strftime('%s')\n",
    "getRowOfUnixTime = lambda x: [timesHelper(i) for i in range(roberta_power_gadget.shape[0]-12)].index(str(x))\n",
    "getDateTime = lambda x, y=0: roberta_power_gadget['System Time'].iloc[:-12][x + y]\n",
    "getDataFromRow = lambda col, x: roberta_power_gadget[col].iloc[:-12][x]\n",
    "\n",
    "# PRE POST trainign energy  \n",
    "setup_stop_row = getRowOfUnixTime(roberta_training_start)\n",
    "pre = getDataFromRow('Cumulative IA Energy_0(Joules)', setup_stop_row)\n",
    "pre = pre + getDataFromRow('Cumulative DRAM Energy_0(Joules)', setup_stop_row) \n",
    "post = roberta_training_cpu + roberta_training_dram - pre \n",
    "\n",
    "# CPU and DRAM energy \n",
    "roberta_setup_cpu_dram_joules_1 = pre - (int(timesHelper(setup_stop_row)) - int(timesHelper(0)))*(avr_idle_CPU+avr_idle_DRAM)\n",
    "roberta_training_cpu_dram_joules_1 = post - (int(timesHelper(roberta_power_gadget.shape[0]-13)) - int(timesHelper(setup_stop_row)))*(avr_idle_CPU+avr_idle_DRAM)\n",
    "print(roberta_setup_cpu_dram_joules_1, roberta_training_cpu_dram_joules_1)"
   ]
  },
  {
   "cell_type": "code",
   "execution_count": 37,
   "metadata": {},
   "outputs": [
    {
     "data": {
      "image/png": "[encoded data removed]",
      "text/plain": [
       "<Figure size 432x288 with 1 Axes>"
      ]
     },
     "metadata": {
      "needs_background": "light"
     },
     "output_type": "display_data"
    },
    {
     "name": "stdout",
     "output_type": "stream",
     "text": [
      "GPU joules per step is: 266.5061836415375\n"
     ]
    }
   ],
   "source": [
    "# Plot watt usage and calculate total energy of system\n",
    "plt.plot(roberta_istat['time'], roberta_istat['watt'])\n",
    "plt.show()\n",
    "itgrt = integrate.trapz(roberta_istat.watt, x=roberta_istat.time)\n",
    "test1 = (itgrt - GPU_idle_joules + roberta_training_cpu_dram_joules_1)/60\n",
    "GPU_Energy_test1 = (itgrt - GPU_idle_joules)/60\n",
    "print(\"GPU joules per step is:\", test1)"
   ]
  },
  {
   "cell_type": "code",
   "execution_count": 38,
   "metadata": {},
   "outputs": [
    {
     "data": {
      "text/plain": [
       "4.942012344797452"
      ]
     },
     "execution_count": 38,
     "metadata": {},
     "output_type": "execute_result"
    }
   ],
   "source": [
    "roberta_istat = pd.read_csv('../data/roberta_GPU_2.csv', low_memory=False)\n",
    "roberta_power_gadget = pd.read_csv('../data/PwrData_2022-4-23_23-13-58_roberta_training_2.csv', low_memory=False)\n",
    "\n",
    "test_start = int((pd.to_datetime(roberta_power_gadget['System Time'][0][:-4], format=\"%H:%M:%S\") + timedelta(days=44672)).strftime('%s'))\n",
    "test_stop = int((pd.to_datetime(roberta_power_gadget['System Time'].iloc[-12][:-4], format=\"%H:%M:%S\") + timedelta(days=44672)).strftime('%s'))\n",
    "\n",
    "# Manual convertion of start and end time\n",
    "roberta_data_program_start = test_start\n",
    "roberta_training_start = 1650748475\n",
    "roberta_training_stop = test_stop\n",
    "\n",
    "# total training time in seconds\n",
    "time = (datetime.fromtimestamp(roberta_training_stop) - datetime.fromtimestamp(roberta_data_program_start)).total_seconds()\n",
    "training_time = (datetime.fromtimestamp(roberta_training_stop) - datetime.fromtimestamp(roberta_data_program_start)).total_seconds()\n",
    "\n",
    "roberta_training_cpu = float(roberta_power_gadget['System Time'].iloc[-6][34:])\n",
    "roberta_training_dram = float(roberta_power_gadget['System Time'].iloc[-3][36:])\n",
    "\n",
    "# CPU and DRAM energy \n",
    "roberta_training_cpu_dram_joules_2 = roberta_training_cpu + roberta_training_dram - time * (avr_idle_CPU + avr_idle_DRAM)\n",
    "\n",
    "# Watts during training 550 steps \n",
    "idle_GPU = roberta_istat[roberta_training_start >= roberta_istat['time']]['watt']\n",
    "roberta_istat = roberta_istat[(roberta_training_start <= roberta_istat['time']) & (roberta_training_stop >= roberta_istat['time'])]\n",
    "roberta_istat.tail()\n",
    "\n",
    "# GPU idle energy \n",
    "GPU_idle_joules =  training_time * idle_GPU.mean()\n",
    "idle_GPU.mean()"
   ]
  },
  {
   "cell_type": "code",
   "execution_count": 39,
   "metadata": {},
   "outputs": [
    {
     "name": "stdout",
     "output_type": "stream",
     "text": [
      "402.32947974068077 1525.6437945413304\n"
     ]
    }
   ],
   "source": [
    "\n",
    "# Separate setup time and training time and add training time cpu and dram when calculating the energy for one step. \n",
    "# There is an overlap between training start and setup stop. Setup stop seemes to be 113 ~rows+ = 5s from training start location.  \n",
    "\n",
    "timesHelper = lambda x:(pd.to_datetime(roberta_power_gadget['System Time'].iloc[:-12][x], format=\"%H:%M:%S:%f\") + timedelta(days=44672)).strftime('%s')\n",
    "getRowOfUnixTime = lambda x: [timesHelper(i) for i in range(roberta_power_gadget.shape[0]-12)].index(str(x))\n",
    "getDateTime = lambda x, y=0: roberta_power_gadget['System Time'].iloc[:-12][x + y]\n",
    "getDataFromRow = lambda col, x: roberta_power_gadget[col].iloc[:-12][x]\n",
    "\n",
    "# PRE POST trainign energy  \n",
    "setup_stop_row = getRowOfUnixTime(roberta_training_start)\n",
    "pre = getDataFromRow('Cumulative IA Energy_0(Joules)', setup_stop_row)\n",
    "pre = pre + getDataFromRow('Cumulative DRAM Energy_0(Joules)', setup_stop_row) \n",
    "post = roberta_training_cpu + roberta_training_dram - pre \n",
    "\n",
    "# CPU and DRAM energy \n",
    "roberta_setup_cpu_dram_joules_2 = pre - (int(timesHelper(setup_stop_row)) - int(timesHelper(0)))*(avr_idle_CPU+avr_idle_DRAM)\n",
    "roberta_training_cpu_dram_joules_2 = post - (int(timesHelper(roberta_power_gadget.shape[0]-13)) - int(timesHelper(setup_stop_row)))*(avr_idle_CPU+avr_idle_DRAM)\n",
    "print(roberta_setup_cpu_dram_joules_2, roberta_training_cpu_dram_joules_2)"
   ]
  },
  {
   "cell_type": "code",
   "execution_count": 40,
   "metadata": {},
   "outputs": [
    {
     "data": {
      "image/png": "[encoded data removed]",
      "text/plain": [
       "<Figure size 432x288 with 1 Axes>"
      ]
     },
     "metadata": {
      "needs_background": "light"
     },
     "output_type": "display_data"
    },
    {
     "name": "stdout",
     "output_type": "stream",
     "text": [
      "GPU joules per step is: 268.4393279216318\n"
     ]
    }
   ],
   "source": [
    "# Plot watt usage and calculate total energy of system\n",
    "plt.plot(roberta_istat['time'], roberta_istat['watt'])\n",
    "plt.show()\n",
    "itgrt = integrate.trapz(roberta_istat.watt, x=roberta_istat.time)\n",
    "test2 = (itgrt - GPU_idle_joules + roberta_training_cpu_dram_joules_2)/60\n",
    "GPU_Energy_test2 = (itgrt - GPU_idle_joules)/60\n",
    "print(\"GPU joules per step is:\", test2)"
   ]
  },
  {
   "cell_type": "code",
   "execution_count": 41,
   "metadata": {},
   "outputs": [
    {
     "data": {
      "text/plain": [
       "5.832074886918023"
      ]
     },
     "execution_count": 41,
     "metadata": {},
     "output_type": "execute_result"
    }
   ],
   "source": [
    "roberta_istat = pd.read_csv('../data/Roberta_long_GPU_day.csv', low_memory=False)\n",
    "roberta_power_gadget = pd.read_csv('../data/PwrData_2022-4-24_10-37-13_roberta_long_training_1.csv', low_memory=False)\n",
    "\n",
    "test_start = int((pd.to_datetime(roberta_power_gadget['System Time'][0][:-4], format=\"%H:%M:%S\") + timedelta(days=44673)).strftime('%s'))\n",
    "test_stop = int((pd.to_datetime(roberta_power_gadget['System Time'].iloc[-12][:-4], format=\"%H:%M:%S\") + timedelta(days=44673)).strftime('%s'))\n",
    "\n",
    "# Manual convertion of start and end time\n",
    "roberta_data_program_start = test_start\n",
    "roberta_training_start = 1650789462\n",
    "roberta_training_stop = test_stop\n",
    "\n",
    "# total training time in seconds\n",
    "time = (datetime.fromtimestamp(roberta_training_stop) - datetime.fromtimestamp(roberta_data_program_start)).total_seconds()\n",
    "training_time = (datetime.fromtimestamp(roberta_training_stop) - datetime.fromtimestamp(roberta_data_program_start)).total_seconds()\n",
    "\n",
    "roberta_training_cpu = float(roberta_power_gadget['System Time'].iloc[-6][34:])\n",
    "roberta_training_dram = float(roberta_power_gadget['System Time'].iloc[-3][36:])\n",
    "\n",
    "# CPU and DRAM energy \n",
    "roberta_training_cpu_dram_joules_3 = roberta_training_cpu + roberta_training_dram - time * (avr_idle_CPU + avr_idle_DRAM)\n",
    "\n",
    "# Watts during training 550 steps \n",
    "idle_GPU = roberta_istat[roberta_training_start >= roberta_istat['time']]['watt']\n",
    "roberta_istat = roberta_istat[(roberta_training_start <= roberta_istat['time']) & (roberta_training_stop >= roberta_istat['time'])]\n",
    "roberta_istat.tail()\n",
    "\n",
    "# GPU idle energy \n",
    "GPU_idle_joules =  training_time * idle_GPU.mean()\n",
    "idle_GPU.mean()"
   ]
  },
  {
   "cell_type": "code",
   "execution_count": 42,
   "metadata": {},
   "outputs": [
    {
     "name": "stdout",
     "output_type": "stream",
     "text": [
      "232.579376012966 10708.06070722205\n"
     ]
    }
   ],
   "source": [
    "\n",
    "# Separate setup time and training time and add training time cpu and dram when calculating the energy for one step. \n",
    "# There is an overlap between training start and setup stop. Setup stop seemes to be 113 ~rows+ = 5s from training start location.  \n",
    "\n",
    "timesHelper = lambda x:(pd.to_datetime(roberta_power_gadget['System Time'].iloc[:-12][x], format=\"%H:%M:%S:%f\") + timedelta(days=44673)).strftime('%s')\n",
    "getRowOfUnixTime = lambda x: [timesHelper(i) for i in range(roberta_power_gadget.shape[0]-12)].index(str(x))\n",
    "getDateTime = lambda x, y=0: roberta_power_gadget['System Time'].iloc[:-12][x + y]\n",
    "getDataFromRow = lambda col, x: roberta_power_gadget[col].iloc[:-12][x]\n",
    "\n",
    "# PRE POST trainign energy  \n",
    "setup_stop_row = getRowOfUnixTime(roberta_training_start)\n",
    "pre = getDataFromRow('Cumulative IA Energy_0(Joules)', setup_stop_row)\n",
    "pre = pre + getDataFromRow('Cumulative DRAM Energy_0(Joules)', setup_stop_row) \n",
    "post = roberta_training_cpu + roberta_training_dram - pre \n",
    "\n",
    "# CPU and DRAM energy \n",
    "roberta_setup_cpu_dram_joules_3 = pre - (int(timesHelper(setup_stop_row)) - int(timesHelper(0)))*(avr_idle_CPU+avr_idle_DRAM)\n",
    "roberta_training_cpu_dram_joules_3 = post - (int(timesHelper(roberta_power_gadget.shape[0]-13)) - int(timesHelper(setup_stop_row)))*(avr_idle_CPU+avr_idle_DRAM)\n",
    "print(roberta_setup_cpu_dram_joules_3, roberta_training_cpu_dram_joules_3)"
   ]
  },
  {
   "cell_type": "code",
   "execution_count": 45,
   "metadata": {},
   "outputs": [
    {
     "data": {
      "image/png": "[encoded data removed]",
      "text/plain": [
       "<Figure size 432x288 with 1 Axes>"
      ]
     },
     "metadata": {
      "needs_background": "light"
     },
     "output_type": "display_data"
    },
    {
     "name": "stdout",
     "output_type": "stream",
     "text": [
      "GPU joules per step is: 274.29718416652827\n"
     ]
    }
   ],
   "source": [
    "# Plot watt usage and calculate total energy of system\n",
    "plt.plot(roberta_istat['time'], roberta_istat['watt'])\n",
    "plt.show()\n",
    "itgrt = integrate.trapz(roberta_istat.watt, x=roberta_istat.time)\n",
    "test3 = (itgrt - GPU_idle_joules + roberta_training_cpu_dram_joules_3)/550-10\n",
    "GPU_Energy_test3 = (itgrt - GPU_idle_joules)/550\n",
    "print(\"GPU joules per step is:\", test3)"
   ]
  },
  {
   "cell_type": "code",
   "execution_count": 46,
   "metadata": {},
   "outputs": [
    {
     "name": "stdout",
     "output_type": "stream",
     "text": [
      "Total energy used by Fine-tuning: 10925149.877804724 . Energy per step: 269.7475652432325 . Sample deviation: 3.312454876404441\n",
      "CPU and DRAM energy consumption procentage of total energy consumption 8.769%\n",
      "CPU and DRAM step and total consumption: 23.64676951910206 958067.6509774423 . GPU energy step and  consumption: 249.4341290574638 10102082.226827284\n"
     ]
    }
   ],
   "source": [
    "# Total consumption\n",
    "steps = 13500\n",
    "epochs = 3 \n",
    "training_mean = (test1+test2+test3)/3\n",
    "setup_mean = ((roberta_setup_cpu_dram_joules_1+roberta_setup_cpu_dram_joules_2+roberta_setup_cpu_dram_joules_3)/3)\n",
    "training_energy = steps*epochs*training_mean\n",
    "cpu_dram_energy_step = ((roberta_training_cpu_dram_joules_1/60+roberta_training_cpu_dram_joules_2/60+roberta_training_cpu_dram_joules_3/550)/3)\n",
    "cpu_dram_energy = steps*epochs*cpu_dram_energy_step + setup_mean\n",
    "gpu_energy_step = ((GPU_Energy_test1 + GPU_Energy_test2 + GPU_Energy_test3)/3)\n",
    "gpu_energy =steps*epochs*gpu_energy_step\n",
    "\n",
    "# Sample standard deviation\n",
    "summ = (test1 - training_mean)**2 + (test2 - training_mean)**2 + (test3 - training_mean)**2\n",
    "standardDeviation = math.sqrt(summ/3)\n",
    "\n",
    "# CPU and DRAM procentage of total energy consumption. \n",
    "print(\"Total energy used by Fine-tuning:\", setup_mean+training_energy, \". Energy per step:\", training_mean, \". Sample deviation:\", standardDeviation)\n",
    "print(\"CPU and DRAM energy consumption procentage of total energy consumption\" , str(round(cpu_dram_energy / (training_energy + setup_mean), 5)*100) + \"%\")\n",
    "print(\"CPU and DRAM step and total consumption:\", cpu_dram_energy_step, cpu_dram_energy, \". GPU energy step and  consumption:\", gpu_energy_step, gpu_energy)\n",
    "\n"
   ]
  },
  {
   "cell_type": "markdown",
   "metadata": {},
   "source": [
    "### BERT Large validation"
   ]
  },
  {
   "cell_type": "markdown",
   "metadata": {},
   "source": [
    "##### Cold-start"
   ]
  },
  {
   "cell_type": "code",
   "execution_count": 8,
   "metadata": {},
   "outputs": [],
   "source": [
    "bert_large_cold_cpu_1 = 406.653442\n",
    "bert_large_cold_dram_1 = 29.502136\n",
    "bert_large_cold_cpu_2 = 369.869507\n",
    "bert_large_cold_dram_2 = 31.576172\n",
    "bert_large_cold_cpu_3 = 367.745605\n",
    "bert_large_cold_dram_3 = 33.113281\n",
    "\n",
    "bert_large_cold_start_1 = pd.to_datetime(\"11:17:28:176\", format=format)\n",
    "bert_large_cold_start_2 = pd.to_datetime('11:18:32:082', format=format)\n",
    "bert_large_cold_start_3 = pd.to_datetime('11:19:40:661', format=format)\n",
    "\n",
    "bert_large_cold_stop_1 = pd.to_datetime('11:17:56:533', format=format)\n",
    "bert_large_cold_stop_2 = pd.to_datetime('11:19:03:213', format=format)\n",
    "bert_large_cold_stop_3 = pd.to_datetime('11:20:14:481', format=format)"
   ]
  },
  {
   "cell_type": "code",
   "execution_count": 9,
   "metadata": {},
   "outputs": [],
   "source": [
    "bert_large_cold_joules_1 = bert_large_cold_cpu_1 + bert_large_cold_dram_1 - (bert_large_cold_stop_1 - bert_large_cold_start_1).total_seconds() * (avr_idle_CPU + avr_idle_DRAM)\n",
    "bert_large_cold_joules_2 = bert_large_cold_cpu_2 + bert_large_cold_dram_2 - (bert_large_cold_stop_2 - bert_large_cold_start_2).total_seconds() * (avr_idle_CPU + avr_idle_DRAM)\n",
    "bert_large_cold_joules_3 = bert_large_cold_cpu_3 + bert_large_cold_dram_3 - (bert_large_cold_stop_3 - bert_large_cold_start_3).total_seconds() * (avr_idle_CPU + avr_idle_DRAM)"
   ]
  },
  {
   "cell_type": "code",
   "execution_count": 10,
   "metadata": {},
   "outputs": [
    {
     "data": {
      "text/plain": [
       "371.3053252676056"
      ]
     },
     "execution_count": 10,
     "metadata": {},
     "output_type": "execute_result"
    }
   ],
   "source": [
    "bert_large_cold_joules = (bert_large_cold_joules_1 + bert_large_cold_joules_2 + bert_large_cold_joules_3)/3\n",
    "\n",
    "bert_large_cold_joules"
   ]
  },
  {
   "cell_type": "markdown",
   "metadata": {},
   "source": [
    "#### Fine-tune"
   ]
  },
  {
   "cell_type": "code",
   "execution_count": 17,
   "metadata": {},
   "outputs": [
    {
     "name": "stdout",
     "output_type": "stream",
     "text": [
      "CPU energy usage is: 23372.656677\n",
      "DRAM energy usage is: 3772.039551\n"
     ]
    },
    {
     "data": {
      "text/plain": [
       "9.98252385854721"
      ]
     },
     "execution_count": 17,
     "metadata": {},
     "output_type": "execute_result"
    }
   ],
   "source": [
    "bert_large_istat = pd.read_csv('../data/bert_large_GPU_1.csv', low_memory=False)\n",
    "bert_large_power_gadget = pd.read_csv('../data/PwrData_2022-5-12_13-45-15_bert-large-training_1.csv', low_memory=False)\n",
    "\n",
    "test_start = int((pd.to_datetime(bert_large_power_gadget['System Time'][0][:-4], format=\"%H:%M:%S\") + timedelta(days=44691)).strftime('%s'))\n",
    "test_stop = int((pd.to_datetime(bert_large_power_gadget['System Time'].iloc[-12][:-4], format=\"%H:%M:%S\") + timedelta(days=44691)).strftime('%s'))\n",
    "\n",
    "# Manual convertion of start and end time\n",
    "bert_large_data_program_start = test_start\n",
    "bert_large_training_start = 1652355977\n",
    "bert_large_training_stop = test_stop\n",
    "\n",
    "# total training time in seconds\n",
    "time = (datetime.fromtimestamp(bert_large_training_stop) - datetime.fromtimestamp(bert_large_data_program_start)).total_seconds()\n",
    "training_time = (datetime.fromtimestamp(bert_large_training_stop) - datetime.fromtimestamp(bert_large_data_program_start)).total_seconds()\n",
    "\n",
    "bert_large_training_cpu = float(bert_large_power_gadget['System Time'].iloc[-6][34:])\n",
    "bert_large_training_dram = float(bert_large_power_gadget['System Time'].iloc[-3][36:])\n",
    "print(\"CPU energy usage is:\", bert_large_training_cpu)\n",
    "print(\"DRAM energy usage is:\", bert_large_training_dram)\n",
    "\n",
    "# CPU and DRAM energy \n",
    "bert_large_training_cpu_dram_joules_1 = bert_large_training_cpu + bert_large_training_dram - time * (avr_idle_CPU + avr_idle_DRAM)\n",
    "\n",
    "# Watts during training 550 steps \n",
    "idle_GPU = bert_large_istat[bert_large_training_start >= bert_large_istat['time']]['watt']\n",
    "bert_large_istat = bert_large_istat[(bert_large_training_start <= bert_large_istat['time']) & (bert_large_training_stop >= bert_large_istat['time'])]\n",
    "bert_large_istat.tail()\n",
    "\n",
    "# GPU idle energy \n",
    "GPU_idle_joules =  training_time * idle_GPU.mean()\n",
    "idle_GPU.mean()"
   ]
  },
  {
   "cell_type": "code",
   "execution_count": 13,
   "metadata": {},
   "outputs": [
    {
     "name": "stdout",
     "output_type": "stream",
     "text": [
      "828.6996267605634 22090.13350969014\n"
     ]
    }
   ],
   "source": [
    "\n",
    "# Separate setup time and training time and add training time cpu and dram when calculating the energy for one step. \n",
    "# There is an overlap between training start and setup stop. Setup stop seemes to be 113 ~rows+ = 5s from training start location.  \n",
    "\n",
    "timesHelper = lambda x:(pd.to_datetime(bert_large_power_gadget['System Time'].iloc[:-12][x], format=\"%H:%M:%S:%f\") + timedelta(days=44691)).strftime('%s')\n",
    "getRowOfUnixTime = lambda x: [timesHelper(i) for i in range(bert_large_power_gadget.shape[0]-12)].index(str(x))\n",
    "getDateTime = lambda x, y=0: bert_large_power_gadget['System Time'].iloc[:-12][x + y]\n",
    "getDataFromRow = lambda col, x: bert_large_power_gadget[col].iloc[:-12][x]\n",
    "\n",
    "# PRE POST trainign energy  \n",
    "setup_stop_row = getRowOfUnixTime(bert_large_training_start)\n",
    "pre = getDataFromRow('Cumulative IA Energy_0(Joules)', setup_stop_row)\n",
    "pre = pre + getDataFromRow('Cumulative DRAM Energy_0(Joules)', setup_stop_row) \n",
    "post = bert_large_training_cpu + bert_large_training_dram - pre \n",
    "\n",
    "# CPU and DRAM energy \n",
    "bert_large_setup_cpu_dram_joules_1 = pre - (int(timesHelper(setup_stop_row)) - int(timesHelper(0)))*(avr_idle_CPU+avr_idle_DRAM)\n",
    "bert_large_training_cpu_dram_joules_1 = post - (int(timesHelper(bert_large_power_gadget.shape[0]-13)) - int(timesHelper(setup_stop_row)))*(avr_idle_CPU+avr_idle_DRAM)\n",
    "print(bert_large_setup_cpu_dram_joules_1, bert_large_training_cpu_dram_joules_1)"
   ]
  },
  {
   "cell_type": "code",
   "execution_count": 14,
   "metadata": {},
   "outputs": [
    {
     "data": {
      "image/png": "[encoded data removed]",
      "text/plain": [
       "<Figure size 432x288 with 1 Axes>"
      ]
     },
     "metadata": {
      "needs_background": "light"
     },
     "output_type": "display_data"
    },
    {
     "name": "stdout",
     "output_type": "stream",
     "text": [
      "GPU joules per step is: 1161.2715340762434\n"
     ]
    }
   ],
   "source": [
    "# Plot watt usage and calculate total energy of system\n",
    "plt.plot(bert_large_istat['time'], bert_large_istat['watt'])\n",
    "plt.show()\n",
    "itgrt = integrate.trapz(bert_large_istat.watt, x=bert_large_istat.time)\n",
    "test1 = (itgrt - GPU_idle_joules + bert_large_training_cpu_dram_joules_1)/60\n",
    "GPU_Energy_test1 = (itgrt - GPU_idle_joules)/60\n",
    "print(\"GPU joules per step is:\", test1)"
   ]
  },
  {
   "cell_type": "code",
   "execution_count": 50,
   "metadata": {},
   "outputs": [
    {
     "name": "stdout",
     "output_type": "stream",
     "text": [
      "CPU energy usage is: 25378.972412\n",
      "DRAM energy usage is: 4768.381409\n"
     ]
    },
    {
     "data": {
      "text/plain": [
       "1.0919608974031039"
      ]
     },
     "execution_count": 50,
     "metadata": {},
     "output_type": "execute_result"
    }
   ],
   "source": [
    "bert_large_istat = pd.read_csv('../data/bert_large_GPU_70_2.csv', low_memory=False)\n",
    "bert_large_power_gadget = pd.read_csv('../data/PwrData_2022-5-14_8-31-5_bert_large_trainint_2.csv', low_memory=False)\n",
    "\n",
    "test_start = int((pd.to_datetime(bert_large_power_gadget['System Time'][0][:-4], format=\"%H:%M:%S\") + timedelta(days=44693)).strftime('%s'))\n",
    "test_stop = int((pd.to_datetime(bert_large_power_gadget['System Time'].iloc[-12][:-4], format=\"%H:%M:%S\") + timedelta(days=44693)).strftime('%s'))\n",
    "\n",
    "# Manual convertion of start and end time\n",
    "bert_large_data_program_start = test_start\n",
    "bert_large_training_start = 1652509899\n",
    "bert_large_training_stop = test_stop\n",
    "\n",
    "# total training time in seconds\n",
    "time = (datetime.fromtimestamp(bert_large_training_stop) - datetime.fromtimestamp(bert_large_data_program_start)).total_seconds()\n",
    "training_time = (datetime.fromtimestamp(bert_large_training_stop) - datetime.fromtimestamp(bert_large_data_program_start)).total_seconds()\n",
    "\n",
    "bert_large_training_cpu = float(bert_large_power_gadget['System Time'].iloc[-6][34:])\n",
    "bert_large_training_dram = float(bert_large_power_gadget['System Time'].iloc[-3][36:])\n",
    "\n",
    "print(\"CPU energy usage is:\", bert_large_training_cpu)\n",
    "print(\"DRAM energy usage is:\", bert_large_training_dram)\n",
    "\n",
    "# CPU and DRAM energy \n",
    "bert_large_training_cpu_dram_joules_2 = bert_large_training_cpu + bert_large_training_dram - time * (avr_idle_CPU + avr_idle_DRAM)\n",
    "\n",
    "# Watts during training 550 steps \n",
    "idle_GPU = bert_large_istat[bert_large_training_start >= bert_large_istat['time']]['watt']\n",
    "bert_large_istat = bert_large_istat[(bert_large_training_start <= bert_large_istat['time']) & (bert_large_training_stop >= bert_large_istat['time'])]\n",
    "bert_large_istat.tail()\n",
    "\n",
    "# GPU idle energy \n",
    "GPU_idle_joules =  training_time * idle_GPU.mean()\n",
    "idle_GPU.mean()"
   ]
  },
  {
   "cell_type": "code",
   "execution_count": 30,
   "metadata": {},
   "outputs": [
    {
     "name": "stdout",
     "output_type": "stream",
     "text": [
      "383.36202112676057 24952.16727522535\n"
     ]
    }
   ],
   "source": [
    "\n",
    "# Separate setup time and training time and add training time cpu and dram when calculating the energy for one step. \n",
    "# There is an overlap between training start and setup stop. Setup stop seemes to be 113 ~rows+ = 5s from training start location.  \n",
    "\n",
    "timesHelper = lambda x:(pd.to_datetime(bert_large_power_gadget['System Time'].iloc[:-12][x], format=\"%H:%M:%S:%f\") + timedelta(days=44693)).strftime('%s')\n",
    "getRowOfUnixTime = lambda x: [timesHelper(i) for i in range(bert_large_power_gadget.shape[0]-12)].index(str(x))\n",
    "getDateTime = lambda x, y=0: bert_large_power_gadget['System Time'].iloc[:-12][x + y]\n",
    "getDataFromRow = lambda col, x: bert_large_power_gadget[col].iloc[:-12][x]\n",
    "\n",
    "# PRE POST trainign energy  \n",
    "setup_stop_row = getRowOfUnixTime(bert_large_training_start)\n",
    "pre = getDataFromRow('Cumulative IA Energy_0(Joules)', setup_stop_row)\n",
    "pre = pre + getDataFromRow('Cumulative DRAM Energy_0(Joules)', setup_stop_row) \n",
    "post = bert_large_training_cpu + bert_large_training_dram - pre \n",
    "\n",
    "# CPU and DRAM energy \n",
    "bert_large_setup_cpu_dram_joules_2 = pre - (int(timesHelper(setup_stop_row)) - int(timesHelper(0)))*(avr_idle_CPU+avr_idle_DRAM)\n",
    "bert_large_training_cpu_dram_joules_2 = post - (int(timesHelper(bert_large_power_gadget.shape[0]-13)) - int(timesHelper(setup_stop_row)))*(avr_idle_CPU+avr_idle_DRAM)\n",
    "print(bert_large_setup_cpu_dram_joules_2, bert_large_training_cpu_dram_joules_2)"
   ]
  },
  {
   "cell_type": "code",
   "execution_count": 31,
   "metadata": {},
   "outputs": [
    {
     "data": {
      "image/png": "[encoded data removed]",
      "text/plain": [
       "<Figure size 432x288 with 1 Axes>"
      ]
     },
     "metadata": {
      "needs_background": "light"
     },
     "output_type": "display_data"
    },
    {
     "name": "stdout",
     "output_type": "stream",
     "text": [
      "GPU joules per step is: 1482.3231351200702\n"
     ]
    }
   ],
   "source": [
    "# Plot watt usage and calculate total energy of system\n",
    "plt.plot(bert_large_istat['time'], bert_large_istat['watt'])\n",
    "plt.show()\n",
    "itgrt = integrate.trapz(bert_large_istat.watt, x=bert_large_istat.time)\n",
    "test2 = (itgrt - GPU_idle_joules + bert_large_training_cpu_dram_joules_2)/70\n",
    "GPU_Energy_test2 = (itgrt - GPU_idle_joules)/70\n",
    "print(\"GPU joules per step is:\", test2)"
   ]
  },
  {
   "cell_type": "code",
   "execution_count": 45,
   "metadata": {},
   "outputs": [
    {
     "data": {
      "text/plain": [
       "2.4379846902744227"
      ]
     },
     "execution_count": 45,
     "metadata": {},
     "output_type": "execute_result"
    }
   ],
   "source": [
    "bert_large_istat = pd.read_csv('../data/bert_large_GPU_62_2+3.csv', low_memory=False)\n",
    "bert_large_power_gadget = pd.read_csv('../data/PwrData_2022-5-14_9-57-13_bert_large_training_62_3.csv', low_memory=False)\n",
    "\n",
    "test_start = int((pd.to_datetime(bert_large_power_gadget['System Time'][0][:-4], format=\"%H:%M:%S\") + timedelta(days=44693)).strftime('%s'))\n",
    "test_stop = int((pd.to_datetime(bert_large_power_gadget['System Time'].iloc[-12][:-4], format=\"%H:%M:%S\") + timedelta(days=44693)).strftime('%s'))\n",
    "\n",
    "# Manual convertion of start and end time\n",
    "bert_large_data_program_start = test_start\n",
    "bert_large_training_start = 1652515019\n",
    "bert_large_training_stop = test_stop\n",
    "\n",
    "# total training time in seconds\n",
    "time = (datetime.fromtimestamp(bert_large_training_stop) - datetime.fromtimestamp(bert_large_data_program_start)).total_seconds()\n",
    "training_time = (datetime.fromtimestamp(bert_large_training_stop) - datetime.fromtimestamp(bert_large_data_program_start)).total_seconds()\n",
    "\n",
    "bert_large_training_cpu = float(bert_large_power_gadget['System Time'].iloc[-6][34:])\n",
    "bert_large_training_dram = float(bert_large_power_gadget['System Time'].iloc[-3][36:])\n",
    "\n",
    "# CPU and DRAM energy \n",
    "bert_large_training_cpu_dram_joules_3 = bert_large_training_cpu + bert_large_training_dram - time * (avr_idle_CPU + avr_idle_DRAM)\n",
    "\n",
    "# Watts during training 550 steps \n",
    "idle_GPU = bert_large_istat[bert_large_training_start >= bert_large_istat['time']]['watt']\n",
    "bert_large_istat = bert_large_istat[(bert_large_training_start <= bert_large_istat['time']) & (bert_large_training_stop >= bert_large_istat['time'])]\n",
    "bert_large_istat.tail()\n",
    "\n",
    "# GPU idle energy \n",
    "GPU_idle_joules =  training_time * idle_GPU.mean()\n",
    "idle_GPU.mean()"
   ]
  },
  {
   "cell_type": "code",
   "execution_count": 46,
   "metadata": {},
   "outputs": [
    {
     "ename": "ValueError",
     "evalue": "'1652515020' is not in list",
     "output_type": "error",
     "traceback": [
      "\u001b[0;31m---------------------------------------------------------------------------\u001b[0m",
      "\u001b[0;31mValueError\u001b[0m                                Traceback (most recent call last)",
      "\u001b[0;32m<ipython-input-46-a1be2274794c>\u001b[0m in \u001b[0;36m<module>\u001b[0;34m\u001b[0m\n\u001b[1;32m      8\u001b[0m \u001b[0;34m\u001b[0m\u001b[0m\n\u001b[1;32m      9\u001b[0m \u001b[0;31m# PRE POST trainign energy\u001b[0m\u001b[0;34m\u001b[0m\u001b[0;34m\u001b[0m\u001b[0;34m\u001b[0m\u001b[0m\n\u001b[0;32m---> 10\u001b[0;31m \u001b[0msetup_stop_row\u001b[0m \u001b[0;34m=\u001b[0m \u001b[0mgetRowOfUnixTime\u001b[0m\u001b[0;34m(\u001b[0m\u001b[0mbert_large_training_start\u001b[0m\u001b[0;34m)\u001b[0m\u001b[0;34m\u001b[0m\u001b[0;34m\u001b[0m\u001b[0m\n\u001b[0m\u001b[1;32m     11\u001b[0m \u001b[0mpre\u001b[0m \u001b[0;34m=\u001b[0m \u001b[0mgetDataFromRow\u001b[0m\u001b[0;34m(\u001b[0m\u001b[0;34m'Cumulative IA Energy_0(Joules)'\u001b[0m\u001b[0;34m,\u001b[0m \u001b[0msetup_stop_row\u001b[0m\u001b[0;34m)\u001b[0m\u001b[0;34m\u001b[0m\u001b[0;34m\u001b[0m\u001b[0m\n\u001b[1;32m     12\u001b[0m \u001b[0mpre\u001b[0m \u001b[0;34m=\u001b[0m \u001b[0mpre\u001b[0m \u001b[0;34m+\u001b[0m \u001b[0mgetDataFromRow\u001b[0m\u001b[0;34m(\u001b[0m\u001b[0;34m'Cumulative DRAM Energy_0(Joules)'\u001b[0m\u001b[0;34m,\u001b[0m \u001b[0msetup_stop_row\u001b[0m\u001b[0;34m)\u001b[0m\u001b[0;34m\u001b[0m\u001b[0;34m\u001b[0m\u001b[0m\n",
      "\u001b[0;32m<ipython-input-46-a1be2274794c>\u001b[0m in \u001b[0;36m<lambda>\u001b[0;34m(x)\u001b[0m\n\u001b[1;32m      3\u001b[0m \u001b[0;34m\u001b[0m\u001b[0m\n\u001b[1;32m      4\u001b[0m \u001b[0mtimesHelper\u001b[0m \u001b[0;34m=\u001b[0m \u001b[0;32mlambda\u001b[0m \u001b[0mx\u001b[0m\u001b[0;34m:\u001b[0m\u001b[0;34m(\u001b[0m\u001b[0mpd\u001b[0m\u001b[0;34m.\u001b[0m\u001b[0mto_datetime\u001b[0m\u001b[0;34m(\u001b[0m\u001b[0mbert_large_power_gadget\u001b[0m\u001b[0;34m[\u001b[0m\u001b[0;34m'System Time'\u001b[0m\u001b[0;34m]\u001b[0m\u001b[0;34m.\u001b[0m\u001b[0miloc\u001b[0m\u001b[0;34m[\u001b[0m\u001b[0;34m:\u001b[0m\u001b[0;34m-\u001b[0m\u001b[0;36m12\u001b[0m\u001b[0;34m]\u001b[0m\u001b[0;34m[\u001b[0m\u001b[0mx\u001b[0m\u001b[0;34m]\u001b[0m\u001b[0;34m,\u001b[0m \u001b[0mformat\u001b[0m\u001b[0;34m=\u001b[0m\u001b[0;34m\"%H:%M:%S:%f\"\u001b[0m\u001b[0;34m)\u001b[0m \u001b[0;34m+\u001b[0m \u001b[0mtimedelta\u001b[0m\u001b[0;34m(\u001b[0m\u001b[0mdays\u001b[0m\u001b[0;34m=\u001b[0m\u001b[0;36m44673\u001b[0m\u001b[0;34m)\u001b[0m\u001b[0;34m)\u001b[0m\u001b[0;34m.\u001b[0m\u001b[0mstrftime\u001b[0m\u001b[0;34m(\u001b[0m\u001b[0;34m'%s'\u001b[0m\u001b[0;34m)\u001b[0m\u001b[0;34m\u001b[0m\u001b[0;34m\u001b[0m\u001b[0m\n\u001b[0;32m----> 5\u001b[0;31m \u001b[0mgetRowOfUnixTime\u001b[0m \u001b[0;34m=\u001b[0m \u001b[0;32mlambda\u001b[0m \u001b[0mx\u001b[0m\u001b[0;34m:\u001b[0m \u001b[0;34m[\u001b[0m\u001b[0mtimesHelper\u001b[0m\u001b[0;34m(\u001b[0m\u001b[0mi\u001b[0m\u001b[0;34m)\u001b[0m \u001b[0;32mfor\u001b[0m \u001b[0mi\u001b[0m \u001b[0;32min\u001b[0m \u001b[0mrange\u001b[0m\u001b[0;34m(\u001b[0m\u001b[0mbert_large_power_gadget\u001b[0m\u001b[0;34m.\u001b[0m\u001b[0mshape\u001b[0m\u001b[0;34m[\u001b[0m\u001b[0;36m0\u001b[0m\u001b[0;34m]\u001b[0m\u001b[0;34m-\u001b[0m\u001b[0;36m12\u001b[0m\u001b[0;34m)\u001b[0m\u001b[0;34m]\u001b[0m\u001b[0;34m.\u001b[0m\u001b[0mindex\u001b[0m\u001b[0;34m(\u001b[0m\u001b[0mstr\u001b[0m\u001b[0;34m(\u001b[0m\u001b[0mx\u001b[0m\u001b[0;34m)\u001b[0m\u001b[0;34m)\u001b[0m\u001b[0;34m\u001b[0m\u001b[0;34m\u001b[0m\u001b[0m\n\u001b[0m\u001b[1;32m      6\u001b[0m \u001b[0mgetDateTime\u001b[0m \u001b[0;34m=\u001b[0m \u001b[0;32mlambda\u001b[0m \u001b[0mx\u001b[0m\u001b[0;34m,\u001b[0m \u001b[0my\u001b[0m\u001b[0;34m=\u001b[0m\u001b[0;36m0\u001b[0m\u001b[0;34m:\u001b[0m \u001b[0mbert_large_power_gadget\u001b[0m\u001b[0;34m[\u001b[0m\u001b[0;34m'System Time'\u001b[0m\u001b[0;34m]\u001b[0m\u001b[0;34m.\u001b[0m\u001b[0miloc\u001b[0m\u001b[0;34m[\u001b[0m\u001b[0;34m:\u001b[0m\u001b[0;34m-\u001b[0m\u001b[0;36m12\u001b[0m\u001b[0;34m]\u001b[0m\u001b[0;34m[\u001b[0m\u001b[0mx\u001b[0m \u001b[0;34m+\u001b[0m \u001b[0my\u001b[0m\u001b[0;34m]\u001b[0m\u001b[0;34m\u001b[0m\u001b[0;34m\u001b[0m\u001b[0m\n\u001b[1;32m      7\u001b[0m \u001b[0mgetDataFromRow\u001b[0m \u001b[0;34m=\u001b[0m \u001b[0;32mlambda\u001b[0m \u001b[0mcol\u001b[0m\u001b[0;34m,\u001b[0m \u001b[0mx\u001b[0m\u001b[0;34m:\u001b[0m \u001b[0mbert_large_power_gadget\u001b[0m\u001b[0;34m[\u001b[0m\u001b[0mcol\u001b[0m\u001b[0;34m]\u001b[0m\u001b[0;34m.\u001b[0m\u001b[0miloc\u001b[0m\u001b[0;34m[\u001b[0m\u001b[0;34m:\u001b[0m\u001b[0;34m-\u001b[0m\u001b[0;36m12\u001b[0m\u001b[0;34m]\u001b[0m\u001b[0;34m[\u001b[0m\u001b[0mx\u001b[0m\u001b[0;34m]\u001b[0m\u001b[0;34m\u001b[0m\u001b[0;34m\u001b[0m\u001b[0m\n",
      "\u001b[0;31mValueError\u001b[0m: '1652515020' is not in list"
     ]
    }
   ],
   "source": [
    "\n",
    "# Separate setup time and training time and add training time cpu and dram when calculating the energy for one step. \n",
    "# There is an overlap between training start and setup stop. Setup stop seemes to be 113 ~rows+ = 5s from training start location.  \n",
    "\n",
    "timesHelper = lambda x:(pd.to_datetime(bert_large_power_gadget['System Time'].iloc[:-12][x], format=\"%H:%M:%S:%f\") + timedelta(days=44673)).strftime('%s')\n",
    "getRowOfUnixTime = lambda x: [timesHelper(i) for i in range(bert_large_power_gadget.shape[0]-12)].index(str(x))\n",
    "getDateTime = lambda x, y=0: bert_large_power_gadget['System Time'].iloc[:-12][x + y]\n",
    "getDataFromRow = lambda col, x: bert_large_power_gadget[col].iloc[:-12][x]\n",
    "\n",
    "# PRE POST trainign energy  \n",
    "setup_stop_row = getRowOfUnixTime(bert_large_training_start)\n",
    "pre = getDataFromRow('Cumulative IA Energy_0(Joules)', setup_stop_row)\n",
    "pre = pre + getDataFromRow('Cumulative DRAM Energy_0(Joules)', setup_stop_row) \n",
    "post = bert_large_training_cpu + bert_large_training_dram - pre \n",
    "\n",
    "# CPU and DRAM energy \n",
    "bert_large_setup_cpu_dram_joules_3 = pre - (int(timesHelper(setup_stop_row)) - int(timesHelper(0)))*(avr_idle_CPU+avr_idle_DRAM)\n",
    "bert_large_training_cpu_dram_joules_3 = post - (int(timesHelper(bert_large_power_gadget.shape[0]-13)) - int(timesHelper(setup_stop_row)))*(avr_idle_CPU+avr_idle_DRAM)\n",
    "print(bert_large_setup_cpu_dram_joules_3, bert_large_training_cpu_dram_joules_3)"
   ]
  },
  {
   "cell_type": "code",
   "execution_count": null,
   "metadata": {},
   "outputs": [
    {
     "data": {
      "image/png": "[encoded data removed]",
      "text/plain": [
       "<Figure size 432x288 with 1 Axes>"
      ]
     },
     "metadata": {},
     "output_type": "display_data"
    },
    {
     "name": "stdout",
     "output_type": "stream",
     "text": [
      "GPU joules per step is: 274.29718416652827\n"
     ]
    }
   ],
   "source": [
    "# Plot watt usage and calculate total energy of system\n",
    "plt.plot(bert_large_istat['time'], bert_large_istat['watt'])\n",
    "plt.show()\n",
    "itgrt = integrate.trapz(bert_large_istat.watt, x=bert_large_istat.time)\n",
    "test3 = (itgrt - GPU_idle_joules + bert_large_training_cpu_dram_joules_3)/62\n",
    "GPU_Energy_test3 = (itgrt - GPU_idle_joules)/62\n",
    "print(\"GPU joules per step is:\", test3)"
   ]
  },
  {
   "cell_type": "code",
   "execution_count": 49,
   "metadata": {},
   "outputs": [
    {
     "name": "stdout",
     "output_type": "stream",
     "text": [
      "Total energy used by Fine-tuning: 53533398.082049295 . Energy per step: 1321.7973345981568 . Sample deviation: 131.06876727682848\n",
      "CPU and DRAM energy consumption procentage of total energy consumption 27.933999999999997%\n",
      "CPU and DRAM step and total consumption: 369.22004238869886 14954017.747566247 . GPU energy step and  consumption: 959.4831224324626 38859066.458514735\n"
     ]
    }
   ],
   "source": [
    "# Total consumption\n",
    "steps = 13500\n",
    "epochs = 3 \n",
    "training_mean = (test1+test2)/2\n",
    "setup_mean = ((bert_large_setup_cpu_dram_joules_1+bert_large_setup_cpu_dram_joules_2)/2)\n",
    "training_energy = steps*epochs*training_mean\n",
    "cpu_dram_energy_step = ((bert_large_training_cpu_dram_joules_1/60+bert_large_training_cpu_dram_joules_2/70)/2)\n",
    "cpu_dram_energy = steps*epochs*cpu_dram_energy_step + setup_mean\n",
    "gpu_energy_step = ((GPU_Energy_test1 + GPU_Energy_test2)/2)\n",
    "gpu_energy =steps*epochs*gpu_energy_step\n",
    "\n",
    "# Sample standard deviation\n",
    "summ = (test1 - training_mean)**2 + (test2 - training_mean)**2 \n",
    "standardDeviation = math.sqrt(summ/3)\n",
    "\n",
    "# CPU and DRAM procentage of total energy consumption. \n",
    "print(\"Total energy used by Fine-tuning:\", setup_mean+training_energy, \". Energy per step:\", training_mean, \". Sample deviation:\", standardDeviation)\n",
    "print(\"CPU and DRAM energy consumption procentage of total energy consumption\" , str(round(cpu_dram_energy / (training_energy + setup_mean), 5)*100) + \"%\")\n",
    "print(\"CPU and DRAM step and total consumption:\", cpu_dram_energy_step, cpu_dram_energy, \". GPU energy step and  consumption:\", gpu_energy_step, gpu_energy)\n",
    "\n"
   ]
  },
  {
   "cell_type": "code",
   "execution_count": 35,
   "metadata": {},
   "outputs": [
    {
     "name": "stdout",
     "output_type": "stream",
     "text": [
      "Total energy used by Fine-tuning: 60034470.33438397 . Energy per step: 1482.3231351200702 . Sample deviation: 0.0\n",
      "CPU and DRAM energy consumption procentage of total energy consumption 24.048%\n",
      "CPU and DRAM step and total consumption: 356.4595325032193 14436994.428401507 . GPU energy step and  consumption: 1125.8636026168508 45597475.90598246\n"
     ]
    }
   ],
   "source": [
    "# Total consumption\n",
    "steps = 13500\n",
    "epochs = 3 \n",
    "training_mean = test2\n",
    "setup_mean = bert_large_setup_cpu_dram_joules_2\n",
    "training_energy = steps*epochs*training_mean\n",
    "cpu_dram_energy_step = bert_large_training_cpu_dram_joules_2/70\n",
    "cpu_dram_energy = steps*epochs*cpu_dram_energy_step + setup_mean\n",
    "gpu_energy_step = GPU_Energy_test2\n",
    "gpu_energy =steps*epochs*gpu_energy_step\n",
    "\n",
    "# Sample standard deviation\n",
    "summ = (test2 - training_mean)**2 \n",
    "standardDeviation = math.sqrt(summ/3)\n",
    "\n",
    "# CPU and DRAM procentage of total energy consumption. \n",
    "print(\"Total energy used by Fine-tuning:\", setup_mean+training_energy, \". Energy per step:\", training_mean, \". Sample deviation:\", standardDeviation)\n",
    "print(\"CPU and DRAM energy consumption procentage of total energy consumption\" , str(round(cpu_dram_energy / (training_energy + setup_mean), 5)*100) + \"%\")\n",
    "print(\"CPU and DRAM step and total consumption:\", cpu_dram_energy_step, cpu_dram_energy, \". GPU energy step and  consumption:\", gpu_energy_step, gpu_energy)\n",
    "\n"
   ]
  },
  {
   "cell_type": "markdown",
   "metadata": {},
   "source": [
    "#### Inference Validation"
   ]
  },
  {
   "cell_type": "code",
   "execution_count": 6,
   "metadata": {},
   "outputs": [],
   "source": [
    "bert_large_power_gadget = pd.read_csv('../data/PwrData_2022-5-17_20-41-24_inference.csv', low_memory=False)\n",
    "\n",
    "bert_large_fast_time_test_stop = pd.to_datetime('21:22:02:792', format=format)\n",
    "bert_large_fast_time_test_start = pd.to_datetime('20:41:24:331', format=format)\n",
    "\n",
    "bert_large_fast_cpu_joules_data = float(bert_large_power_gadget['System Time'].iloc[-6][34:]) \n",
    "bert_large_fast_dram_joules_data = float(bert_large_power_gadget['System Time'].iloc[-3][36:])"
   ]
  },
  {
   "cell_type": "code",
   "execution_count": 10,
   "metadata": {},
   "outputs": [
    {
     "data": {
      "text/plain": [
       "45886.24392799838"
      ]
     },
     "execution_count": 10,
     "metadata": {},
     "output_type": "execute_result"
    }
   ],
   "source": [
    "# Total CPU and DRAM joules for bert large fast tokenizer\n",
    "bert_large_fast_joules = bert_large_fast_cpu_joules_data + bert_large_fast_dram_joules_data - (bert_large_fast_time_test_stop - bert_large_fast_time_test_start).total_seconds() * (avr_idle_CPU + avr_idle_DRAM)\n",
    "bert_large_fast_joules"
   ]
  },
  {
   "cell_type": "code",
   "execution_count": null,
   "metadata": {},
   "outputs": [],
   "source": []
  }
 ],
 "metadata": {
  "interpreter": {
   "hash": "4b86242746ce3b0463341cb6e493d6fbac7d1f2dd1964736c59827ffa76fdf6e"
  },
  "kernelspec": {
   "display_name": "Python 3.8.8 ('base')",
   "language": "python",
   "name": "python3"
  },
  "language_info": {
   "codemirror_mode": {
    "name": "ipython",
    "version": 3
   },
   "file_extension": ".py",
   "mimetype": "text/x-python",
   "name": "python",
   "nbconvert_exporter": "python",
   "pygments_lexer": "ipython3",
   "version": "3.8.8"
  },
  "orig_nbformat": 4
 },
 "nbformat": 4,
 "nbformat_minor": 2
}
